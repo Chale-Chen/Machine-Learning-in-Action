{
 "cells": [
  {
   "cell_type": "markdown",
   "metadata": {},
   "source": [
    "## Logistic regression"
   ]
  },
  {
   "cell_type": "markdown",
   "metadata": {},
   "source": [
    "- Pros: Computationally inexpensive, easy to implement,\n",
    "    knowledge representation easy to interpret\n",
    "- Cons: Prone to underfitting, may have low accuracy\n",
    "- Works with: Numeric values, nominal values"
   ]
  },
  {
   "cell_type": "code",
   "execution_count": 1,
   "metadata": {
    "collapsed": true
   },
   "outputs": [],
   "source": [
    "import numpy as np\n",
    "import matplotlib.pyplot as plt\n",
    "%matplotlib inline"
   ]
  },
  {
   "cell_type": "markdown",
   "metadata": {},
   "source": [
    "### Implement Logistic Regression"
   ]
  },
  {
   "cell_type": "markdown",
   "metadata": {},
   "source": [
    "Loss function: $J(\\theta)=-\\frac{1}{m}[\\sum_{i=1}^m\n",
    "    {y^{(i)}\\log{h_{\\theta}}(x^{(i)})+(1-y^{(i)})\\log{(1-h_{\\theta}}(x^{(i)}))}]$"
   ]
  },
  {
   "cell_type": "markdown",
   "metadata": {},
   "source": [
    "Gradient: $\\theta_j := \\theta_j -\n",
    "    \\alpha\\sum_{i=1}^m{(h_{\\theta}(x^{(i)})-y^{(i)})x^{(i)}_j}$"
   ]
  },
  {
   "cell_type": "code",
   "execution_count": 2,
   "metadata": {
    "collapsed": true
   },
   "outputs": [],
   "source": [
    "# Logistic regression gradient ascent optimization functions\n",
    "def sigmoid(inX):\n",
    "    return 1 / (1 + np.exp(-inX))\n",
    "\n",
    "\n",
    "def gradAscent(dataMatrix, classLabels):\n",
    "    # Convert to NumPy matrix data type\n",
    "    alpha = 0.001\n",
    "    maxCycles = 500\n",
    "    weights = np.ones((dataMatrix.shape[1], 1))\n",
    "    for k in range(maxCycles):\n",
    "        # Matrix multiplication\n",
    "        h = sigmoid(np.dot(dataMatrix, weights))\n",
    "        error = classLabels[:, np.newaxis] - h\n",
    "        weights = weights + alpha * np.dot(dataMatrix.T, error)\n",
    "    return weights"
   ]
  },
  {
   "cell_type": "code",
   "execution_count": 3,
   "metadata": {
    "collapsed": true
   },
   "outputs": [],
   "source": [
    "# Stochastic gradient ascent\n",
    "# Start with the weights all set to 1\n",
    "# Repeat R number of times:\n",
    "#     Calculate the gradient of the entire dataset\n",
    "#     Update the weights vector by alpha*gradient\n",
    "#     Return the weights vector\n",
    "def stocGradAscent0(dataMatrix, classLabels):\n",
    "    alpha = 0.01\n",
    "    weights = np.ones(dataMatrix.shape[1])\n",
    "    for i in range(dataMatrix.shape[0]):\n",
    "        h = sigmoid(np.dot(dataMatrix[i], weights))\n",
    "        error = classLabels[i] - h\n",
    "        weights = weights + alpha * error * dataMatrix[i]\n",
    "    return weights"
   ]
  },
  {
   "cell_type": "code",
   "execution_count": 4,
   "metadata": {
    "collapsed": true
   },
   "outputs": [],
   "source": [
    "# Modified stochastic gradient ascent\n",
    "# Start with the weights all set to 1\n",
    "# For each piece of data in the dataset:\n",
    "#     Calculate the gradient of one piece of data\n",
    "#     Update the weights vector by alpha*gradient\n",
    "# Return the weights vector\n",
    "def stocGradAscent1(dataMatrix, classLabels, numIter=150):\n",
    "    m, n = dataMatrix.shape\n",
    "    weights = np.ones(n)\n",
    "    for j in range(numIter):\n",
    "        dataIndex = list(range(m))\n",
    "        for i in range(m):\n",
    "            # Alpha changes with each iteration\n",
    "            alpha = 4 / (1.0 + j + i) + 0.01\n",
    "            # Update vectors are randomly selected\n",
    "            randIndex = int(np.random.uniform(0, len(dataIndex)))\n",
    "            # h = sigmoid(sum(dataMatrix[randIndex] * weights))\n",
    "            # error = classLabels[randIndex] - h\n",
    "            # weights = weights + alpha * error * dataMatrix[randIndex]\n",
    "            h = sigmoid(np.dot(dataMatrix[dataIndex[randIndex]], weights))\n",
    "            error = classLabels[dataIndex[randIndex]] - h\n",
    "            weights = (weights +\n",
    "                       alpha * error * dataMatrix[dataIndex[randIndex]])\n",
    "            del(dataIndex[randIndex])\n",
    "    return weights"
   ]
  },
  {
   "cell_type": "markdown",
   "metadata": {},
   "source": [
    "### Experiment 1: Toy dataset"
   ]
  },
  {
   "cell_type": "code",
   "execution_count": 5,
   "metadata": {
    "collapsed": true
   },
   "outputs": [],
   "source": [
    "def loadDataSet():\n",
    "    dataMat, labelMat = [], []\n",
    "    fr = open('testSet.txt')\n",
    "    for line in fr.readlines():\n",
    "        lineArr = line.strip().split()\n",
    "        dataMat.append([1.0, float(lineArr[0]), float(lineArr[1])])\n",
    "        labelMat.append(int(lineArr[2]))\n",
    "    return np.array(dataMat), np.array(labelMat)"
   ]
  },
  {
   "cell_type": "code",
   "execution_count": 6,
   "metadata": {},
   "outputs": [
    {
     "data": {
      "text/plain": [
       "array([[ 4.12414349],\n",
       "       [ 0.48007329],\n",
       "       [-0.6168482 ]])"
      ]
     },
     "execution_count": 6,
     "metadata": {},
     "output_type": "execute_result"
    }
   ],
   "source": [
    "dataArr, labelMat = loadDataSet()\n",
    "gradAscent(dataArr, labelMat)"
   ]
  },
  {
   "cell_type": "code",
   "execution_count": 7,
   "metadata": {
    "collapsed": true
   },
   "outputs": [],
   "source": [
    "# Plotting the logistic regression best-fit line and dataset\n",
    "def plotBestFit(weights):\n",
    "    dataMat, labelMat = loadDataSet()\n",
    "    xcord1, ycord1 = [], []\n",
    "    xcord2, ycord2 = [], []\n",
    "    for i in range(dataArr.shape[0]):\n",
    "        if int(labelMat[i]) == 1:\n",
    "            xcord1.append(dataArr[i, 1])\n",
    "            ycord1.append(dataArr[i, 2])\n",
    "        else:\n",
    "            xcord2.append(dataArr[i, 1])\n",
    "            ycord2.append(dataArr[i, 2])\n",
    "    fig = plt.figure()\n",
    "    ax = fig.add_subplot(111)\n",
    "    ax.scatter(xcord1, ycord1, s=30, c='red', marker='s')\n",
    "    ax.scatter(xcord2, ycord2, s=30, c='green')\n",
    "    # Best-fit line\n",
    "    x = np.arange(-3.0, 3.0, 0.1)\n",
    "    y = (-weights[0] - weights[1] * x) / weights[2]\n",
    "    ax.plot(x, y)\n",
    "    plt.xlabel('X1')\n",
    "    plt.ylabel('X2')\n",
    "    plt.show()"
   ]
  },
  {
   "cell_type": "code",
   "execution_count": 8,
   "metadata": {},
   "outputs": [
    {
     "data": {
      "image/png": "[encoded data removed]",
      "text/plain": [
       "<Figure size 432x288 with 1 Axes>"
      ]
     },
     "metadata": {},
     "output_type": "display_data"
    }
   ],
   "source": [
    "dataArr, labelMat = loadDataSet()\n",
    "weights = gradAscent(dataArr, labelMat)\n",
    "plotBestFit(weights.ravel())"
   ]
  },
  {
   "cell_type": "code",
   "execution_count": 9,
   "metadata": {},
   "outputs": [
    {
     "data": {
      "image/png": "[encoded data removed]",
      "text/plain": [
       "<Figure size 432x288 with 1 Axes>"
      ]
     },
     "metadata": {},
     "output_type": "display_data"
    }
   ],
   "source": [
    "dataArr, labelMat = loadDataSet()\n",
    "weights = stocGradAscent0(np.array(dataArr), labelMat)\n",
    "plotBestFit(weights)"
   ]
  },
  {
   "cell_type": "code",
   "execution_count": 10,
   "metadata": {},
   "outputs": [
    {
     "data": {
      "image/png": "[encoded data removed]",
      "text/plain": [
       "<Figure size 432x288 with 1 Axes>"
      ]
     },
     "metadata": {},
     "output_type": "display_data"
    }
   ],
   "source": [
    "dataArr, labelMat = loadDataSet()\n",
    "weights = stocGradAscent1(np.array(dataArr), labelMat)\n",
    "plotBestFit(weights)"
   ]
  },
  {
   "cell_type": "markdown",
   "metadata": {},
   "source": [
    "### Experiment 2: Horse colic dataset"
   ]
  },
  {
   "cell_type": "code",
   "execution_count": 11,
   "metadata": {
    "collapsed": true
   },
   "outputs": [],
   "source": [
    "# Logistic regression classification function\n",
    "def classifyVector(inX, weights):\n",
    "    prob = sigmoid(np.dot(inX, weights))\n",
    "    if prob > 0.5:\n",
    "        return 1.0\n",
    "    else:\n",
    "        return 0.0\n",
    "\n",
    "\n",
    "def colicTest():\n",
    "    frTrain = open('horseColicTraining.txt')\n",
    "    frTest = open('horseColicTest.txt')\n",
    "    trainingSet, trainingLabels = [], []\n",
    "    for line in frTrain.readlines():\n",
    "        currLine = line.strip().split('\\t')\n",
    "        lineArr = []\n",
    "        for i in range(21):\n",
    "            lineArr.append(float(currLine[i]))\n",
    "        trainingSet.append(lineArr)\n",
    "        trainingLabels.append(float(currLine[21]))\n",
    "    trainWeights = stocGradAscent1(np.array(trainingSet),\n",
    "                                   np.array(trainingLabels), 1000)\n",
    "    errorCount, numTestVec = 0, 0\n",
    "    for line in frTest.readlines():\n",
    "        numTestVec += 1\n",
    "        currLine = line.strip().split('\\t')\n",
    "        lineArr = []\n",
    "        for i in range(21):\n",
    "            lineArr.append(float(currLine[i]))\n",
    "        if int(classifyVector(np.array(lineArr),\n",
    "                              trainWeights)) != int(currLine[21]):\n",
    "            errorCount += 1\n",
    "    errorRate = errorCount / numTestVec\n",
    "    print(\"the error rate of this test is: %f\" % errorRate)\n",
    "    return errorRate\n",
    "\n",
    "\n",
    "def multiTest():\n",
    "    numTests = 10\n",
    "    errorSum = 0\n",
    "    for k in range(numTests):\n",
    "        errorSum += colicTest()\n",
    "    print(\"after %d iterations the average error rate is: %f\"\n",
    "          % (numTests, errorSum / numTests))"
   ]
  },
  {
   "cell_type": "code",
   "execution_count": 12,
   "metadata": {},
   "outputs": [
    {
     "name": "stdout",
     "output_type": "stream",
     "text": [
      "the error rate of this test is: 0.238806\n",
      "the error rate of this test is: 0.223881\n",
      "the error rate of this test is: 0.283582\n",
      "the error rate of this test is: 0.283582\n",
      "the error rate of this test is: 0.343284\n",
      "the error rate of this test is: 0.298507\n",
      "the error rate of this test is: 0.283582\n",
      "the error rate of this test is: 0.223881\n",
      "the error rate of this test is: 0.253731\n",
      "the error rate of this test is: 0.283582\n",
      "after 10 iterations the average error rate is: 0.271642\n"
     ]
    }
   ],
   "source": [
    "multiTest()"
   ]
  }
 ],
 "metadata": {
  "kernelspec": {
   "display_name": "Python 3",
   "language": "python",
   "name": "python3"
  },
  "language_info": {
   "codemirror_mode": {
    "name": "ipython",
    "version": 3
   },
   "file_extension": ".py",
   "mimetype": "text/x-python",
   "name": "python",
   "nbconvert_exporter": "python",
   "pygments_lexer": "ipython3",
   "version": "3.6.3"
  }
 },
 "nbformat": 4,
 "nbformat_minor": 2
}
