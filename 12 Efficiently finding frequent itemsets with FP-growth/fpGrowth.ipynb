{
 "cells": [
  {
   "cell_type": "markdown",
   "metadata": {},
   "source": [
    "## Efficiently finding frequent itemsets with FP-growth"
   ]
  },
  {
   "cell_type": "markdown",
   "metadata": {},
   "source": [
    "- Pros: Usually faster than Apriori.\n",
    "- Cons: Difficult to implement; certain datasets degrade the performance.\n",
    "- Works with: Nominal values."
   ]
  },
  {
   "cell_type": "code",
   "execution_count": 1,
   "metadata": {
    "collapsed": true
   },
   "outputs": [],
   "source": [
    "import re"
   ]
  },
  {
   "cell_type": "markdown",
   "metadata": {},
   "source": [
    "### Implement FPGrowth"
   ]
  },
  {
   "cell_type": "code",
   "execution_count": 2,
   "metadata": {
    "collapsed": true
   },
   "outputs": [],
   "source": [
    "# FP-tree class definition\n",
    "class treeNode:\n",
    "    def __init__(self, nameValue, numOccur, parentNode):\n",
    "        self.name = nameValue\n",
    "        self.count = numOccur\n",
    "        self.nodeLink = None\n",
    "        self.parent = parentNode\n",
    "        self.children = {}\n",
    "\n",
    "    def inc(self, numOccur):\n",
    "        self.count += numOccur\n",
    "\n",
    "    def disp(self, ind=1):\n",
    "        print('  ' * ind, self.name, ' ', self.count)\n",
    "        for child in self.children.values():\n",
    "            child.disp(ind + 1)"
   ]
  },
  {
   "cell_type": "code",
   "execution_count": 3,
   "metadata": {
    "collapsed": true
   },
   "outputs": [],
   "source": [
    "# FP-tree creation code\n",
    "def createTree(dataSet, minSup=1):\n",
    "    headerTable = {}\n",
    "    for trans in dataSet:\n",
    "        for item in trans:\n",
    "            headerTable[item] = headerTable.get(item, 0) + dataSet[trans]\n",
    "    # Remove items not meeting min support\n",
    "    for k in list(headerTable.keys()):\n",
    "        if headerTable[k] < minSup:\n",
    "            del(headerTable[k])\n",
    "    freqItemSet = set(headerTable.keys())\n",
    "    # If no items meet min support, exit\n",
    "    if len(freqItemSet) == 0:\n",
    "        return None, None\n",
    "    for k in headerTable:\n",
    "        headerTable[k] = [headerTable[k], None]\n",
    "    retTree = treeNode('Null Set', 1, None)\n",
    "    for tranSet, count in dataSet.items():\n",
    "        localD = {}\n",
    "        # Sort transactions by global frequency\n",
    "        for item in tranSet:\n",
    "            if item in freqItemSet:\n",
    "                localD[item] = headerTable[item][0]\n",
    "        if len(localD) > 0:\n",
    "            orderedItems = [v[0] for v in sorted(localD.items(),\n",
    "                                                 key=lambda p: p[1],\n",
    "                                                 reverse=True)]\n",
    "            # Populate tree with ordered freq itemset\n",
    "            updateTree(orderedItems, retTree, headerTable, count)\n",
    "    return retTree, headerTable\n",
    "\n",
    "\n",
    "def updateTree(items, inTree, headerTable, count):\n",
    "    if items[0] in inTree.children:\n",
    "        inTree.children[items[0]].inc(count)\n",
    "    else:\n",
    "        inTree.children[items[0]] = treeNode(items[0], count, inTree)\n",
    "        if headerTable[items[0]][1] is None:\n",
    "            headerTable[items[0]][1] = inTree.children[items[0]]\n",
    "        else:\n",
    "            updateHeader(headerTable[items[0]][1], inTree.children[items[0]])\n",
    "    if len(items) > 1:\n",
    "        # Recursively call updateTree on remaining items\n",
    "        updateTree(items[1:], inTree.children[items[0]], headerTable, count)\n",
    "\n",
    "\n",
    "def updateHeader(nodeToTest, targetNode):\n",
    "    while nodeToTest.nodeLink is not None:\n",
    "        nodeToTest = nodeToTest.nodeLink\n",
    "    nodeToTest.nodeLink = targetNode"
   ]
  },
  {
   "cell_type": "code",
   "execution_count": 4,
   "metadata": {
    "collapsed": true
   },
   "outputs": [],
   "source": [
    "# A function to find all paths ending with a given item\n",
    "def ascendTree(leafNode, prefixPath):\n",
    "    # Recursively ascend the tree\n",
    "    if leafNode.parent is not None:\n",
    "        prefixPath.append(leafNode.name)\n",
    "        ascendTree(leafNode.parent, prefixPath)\n",
    "\n",
    "\n",
    "def findPrefixPath(basePat, treeNode):\n",
    "    condPats = {}\n",
    "    while treeNode is not None:\n",
    "        prefixPath = []\n",
    "        ascendTree(treeNode, prefixPath)\n",
    "        if len(prefixPath) > 1:\n",
    "            condPats[frozenset(prefixPath[1:])] = treeNode.count\n",
    "        treeNode = treeNode.nodeLink\n",
    "    return condPats"
   ]
  },
  {
   "cell_type": "code",
   "execution_count": 5,
   "metadata": {
    "collapsed": true
   },
   "outputs": [],
   "source": [
    "# The mineTree function recursively finds frequent itemsets\n",
    "# Get conditional pattern bases from the FP-tree.\n",
    "# From the conditional pattern base, construct a conditional FP-tree.\n",
    "# Recursively repeat steps 1 and 2 on until the tree contains a single item.\n",
    "def mineTree(inTree, headerTable, minSup, preFix, freqItemList):\n",
    "    # Start from bottom of header table\n",
    "    bigL = [v[0] for v in sorted(headerTable.items(), key=lambda p: p[1][0])]\n",
    "    for basePat in bigL:\n",
    "        newFreqSet = preFix.copy()\n",
    "        newFreqSet.add(basePat)\n",
    "        freqItemList.append(newFreqSet)\n",
    "        condPattBases = findPrefixPath(basePat, headerTable[basePat][1])\n",
    "        # Construct cond. FP-tree from cond. pattern base\n",
    "        myCondTree, myHead = createTree(condPattBases, minSup)\n",
    "        if myHead is not None:\n",
    "            # Mine cond. FP-tree\n",
    "            mineTree(myCondTree, myHead, minSup, newFreqSet, freqItemList)"
   ]
  },
  {
   "cell_type": "markdown",
   "metadata": {},
   "source": [
    "### Experiment 1: Toy dataset"
   ]
  },
  {
   "cell_type": "code",
   "execution_count": 6,
   "metadata": {
    "collapsed": true
   },
   "outputs": [],
   "source": [
    "# Simple dataset and data wrapper\n",
    "def loadSimpDat():\n",
    "    simpDat = [['r', 'z', 'h', 'j', 'p'],\n",
    "               ['z', 'y', 'x', 'w', 'v', 'u', 't', 's'],\n",
    "               ['z'],\n",
    "               ['r', 'x', 'n', 'o', 's'],\n",
    "               ['y', 'r', 'x', 'z', 'q', 't', 'p'],\n",
    "               ['y', 'z', 'x', 'e', 'q', 's', 't', 'm']]\n",
    "    return simpDat"
   ]
  },
  {
   "cell_type": "code",
   "execution_count": 7,
   "metadata": {
    "collapsed": true
   },
   "outputs": [],
   "source": [
    "def createInitSet(dataSet):\n",
    "    retDict = {}\n",
    "    for trans in dataSet:\n",
    "        if frozenset(trans) in retDict:\n",
    "            retDict[frozenset(trans)] += 1\n",
    "        else:\n",
    "            retDict[frozenset(trans)] = 1\n",
    "    return retDict"
   ]
  },
  {
   "cell_type": "code",
   "execution_count": 8,
   "metadata": {
    "collapsed": true
   },
   "outputs": [],
   "source": [
    "simpDat = loadSimpDat()"
   ]
  },
  {
   "cell_type": "code",
   "execution_count": 9,
   "metadata": {
    "collapsed": true
   },
   "outputs": [],
   "source": [
    "initSet = createInitSet(simpDat)"
   ]
  },
  {
   "cell_type": "code",
   "execution_count": 10,
   "metadata": {
    "collapsed": true
   },
   "outputs": [],
   "source": [
    "myFPtree, myHeaderTab = createTree(initSet, 2)"
   ]
  },
  {
   "cell_type": "code",
   "execution_count": 11,
   "metadata": {},
   "outputs": [
    {
     "name": "stdout",
     "output_type": "stream",
     "text": [
      "   Null Set   1\n",
      "     z   5\n",
      "       r   1\n",
      "         p   1\n",
      "       x   3\n",
      "         y   3\n",
      "           t   2\n",
      "             s   2\n",
      "               q   1\n",
      "           r   1\n",
      "             t   1\n",
      "               q   1\n",
      "                 p   1\n",
      "     x   1\n",
      "       r   1\n",
      "         s   1\n"
     ]
    }
   ],
   "source": [
    "myFPtree.disp()"
   ]
  },
  {
   "cell_type": "code",
   "execution_count": 12,
   "metadata": {},
   "outputs": [
    {
     "name": "stdout",
     "output_type": "stream",
     "text": [
      "[{'p'}, {'q'}, {'r'}, {'y'}, {'z', 'y'}, {'y', 'x'}, {'z', 'y', 'x'}, {'t'}, {'z', 't'}, {'t', 'y'}, {'z', 't', 'y'}, {'t', 'x'}, {'z', 't', 'x'}, {'t', 'x', 'y'}, {'z', 't', 'x', 'y'}, {'s'}, {'x', 's'}, {'x'}, {'z', 'x'}, {'z'}]\n"
     ]
    }
   ],
   "source": [
    "freqItems = []\n",
    "mineTree(myFPtree, myHeaderTab, 3, set([]), freqItems)\n",
    "print(freqItems)"
   ]
  },
  {
   "cell_type": "markdown",
   "metadata": {},
   "source": [
    "### Experiment 2: Twitter dataset"
   ]
  },
  {
   "cell_type": "code",
   "execution_count": 13,
   "metadata": {
    "collapsed": true
   },
   "outputs": [],
   "source": [
    "# Text parsing and glue code\n",
    "# twitter API difficult to apply\n",
    "# datasets based on http://help.sentiment140.com/home\n",
    "# select tweets which contain word internet\n",
    "def textParse(bigString):\n",
    "    urlsRemoved = re.sub('(http:[/][/]|www.)([a-z]|[A-Z]|[0-9]|[/.]|[~])*',\n",
    "                         '', bigString)\n",
    "    listOfTokens = re.split(r'\\W+', urlsRemoved)\n",
    "    return [tok.lower() for tok in listOfTokens if len(tok) > 2]\n",
    "\n",
    "\n",
    "def mineTweets(minSup=250):\n",
    "    parsedList = []\n",
    "    input_file = open(\"twitter.txt\")\n",
    "    lines = input_file.readlines()\n",
    "    input_file.close()\n",
    "    for line in lines:\n",
    "        parsedList.append(textParse(line))\n",
    "    initSet = createInitSet(parsedList)\n",
    "    myFPtree, myHeaderTab = createTree(initSet, minSup)\n",
    "    myFreqList = []\n",
    "    mineTree(myFPtree, myHeaderTab, minSup, set([]), myFreqList)\n",
    "    return myFreqList"
   ]
  },
  {
   "cell_type": "code",
   "execution_count": 14,
   "metadata": {},
   "outputs": [
    {
     "data": {
      "text/plain": [
       "[{'home'},\n",
       " {'from'},\n",
       " {'slow'},\n",
       " {'internet', 'slow'},\n",
       " {'work'},\n",
       " {'internet', 'work'},\n",
       " {'down'},\n",
       " {'down', 'internet'},\n",
       " {'was'},\n",
       " {'internet', 'was'},\n",
       " {'back'},\n",
       " {'back', 'internet'},\n",
       " {'this'},\n",
       " {'internet', 'this'},\n",
       " {'all'},\n",
       " {'all', 'internet'},\n",
       " {'out'},\n",
       " {'internet', 'out'},\n",
       " {'get'},\n",
       " {'get', 'internet'},\n",
       " {'connection'},\n",
       " {'connection', 'internet'},\n",
       " {'just'},\n",
       " {'internet', 'just'},\n",
       " {'with'},\n",
       " {'internet', 'with'},\n",
       " {'not'},\n",
       " {'internet', 'not'},\n",
       " {'can'},\n",
       " {'can', 'internet'},\n",
       " {'now'},\n",
       " {'internet', 'now'},\n",
       " {'that'},\n",
       " {'that', 'the'},\n",
       " {'internet', 'that'},\n",
       " {'you'},\n",
       " {'the', 'you'},\n",
       " {'internet', 'you'},\n",
       " {'but'},\n",
       " {'but', 'the'},\n",
       " {'but', 'internet', 'the'},\n",
       " {'but', 'internet'},\n",
       " {'have'},\n",
       " {'have', 'the'},\n",
       " {'have', 'internet', 'the'},\n",
       " {'have', 'internet'},\n",
       " {'for'},\n",
       " {'for', 'the'},\n",
       " {'for', 'internet', 'the'},\n",
       " {'for', 'internet'},\n",
       " {'and'},\n",
       " {'and', 'the'},\n",
       " {'and', 'internet', 'the'},\n",
       " {'and', 'internet'},\n",
       " {'the'},\n",
       " {'internet', 'the'},\n",
       " {'internet'}]"
      ]
     },
     "execution_count": 14,
     "metadata": {},
     "output_type": "execute_result"
    }
   ],
   "source": [
    "mineTweets()"
   ]
  },
  {
   "cell_type": "markdown",
   "metadata": {},
   "source": [
    "### Experiment 3: Clickstream dataset"
   ]
  },
  {
   "cell_type": "code",
   "execution_count": 15,
   "metadata": {
    "collapsed": true
   },
   "outputs": [],
   "source": [
    "parsedDat = [line.split() for line in open('kosarak.dat').readlines()]\n",
    "initSet = createInitSet(parsedDat)\n",
    "myFPtree, myHeaderTab = createTree(initSet, 100000)"
   ]
  },
  {
   "cell_type": "code",
   "execution_count": 16,
   "metadata": {},
   "outputs": [
    {
     "name": "stdout",
     "output_type": "stream",
     "text": [
      "[{'1'}, {'1', '6'}, {'11'}, {'3', '11'}, {'3', '6', '11'}, {'6', '11'}, {'3'}, {'3', '6'}, {'6'}]\n"
     ]
    }
   ],
   "source": [
    "myFreqList = []\n",
    "mineTree(myFPtree, myHeaderTab, 100000, set([]), myFreqList)\n",
    "print(myFreqList)"
   ]
  }
 ],
 "metadata": {
  "kernelspec": {
   "display_name": "Python 3",
   "language": "python",
   "name": "python3"
  },
  "language_info": {
   "codemirror_mode": {
    "name": "ipython",
    "version": 3
   },
   "file_extension": ".py",
   "mimetype": "text/x-python",
   "name": "python",
   "nbconvert_exporter": "python",
   "pygments_lexer": "ipython3",
   "version": "3.6.3"
  }
 },
 "nbformat": 4,
 "nbformat_minor": 2
}
