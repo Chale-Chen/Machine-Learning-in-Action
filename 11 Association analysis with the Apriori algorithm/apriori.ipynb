{
 "cells": [
  {
   "cell_type": "markdown",
   "metadata": {},
   "source": [
    "## Association analysis with the Apriori algorithm"
   ]
  },
  {
   "cell_type": "markdown",
   "metadata": {},
   "source": [
    "- Pros: Easy to code up\n",
    "- Cons: May be slow on large datasets\n",
    "- Works with: Numeric values, nominal values"
   ]
  },
  {
   "cell_type": "markdown",
   "metadata": {},
   "source": [
    "### Implement Apriori"
   ]
  },
  {
   "cell_type": "code",
   "execution_count": 1,
   "metadata": {
    "collapsed": true
   },
   "outputs": [],
   "source": [
    "# Apriori algorithm helper functions\n",
    "# For each transaction in tran the dataset:\n",
    "# For each candidate itemset, can:\n",
    "#     Check to see if can is a subset of tran\n",
    "#     If so increment the count of can\n",
    "# For each candidate itemset:\n",
    "#     If the support meets the minimum, keep this item\n",
    "# Return list of frequent itemsets\n",
    "def createC1(dataSet):\n",
    "    C1 = []\n",
    "    for transaction in dataSet:\n",
    "        for item in transaction:\n",
    "            if not [item] in C1:\n",
    "                C1.append([item])\n",
    "    C1.sort()\n",
    "    # Create a frozenset of each item in C1\n",
    "    return list(map(frozenset, C1))\n",
    "\n",
    "\n",
    "def scanD(D, Ck, minSupport):\n",
    "    ssCnt = {}\n",
    "    for tid in D:\n",
    "        for can in Ck:\n",
    "            if can.issubset(tid):\n",
    "                if can not in ssCnt:\n",
    "                    ssCnt[can] = 1\n",
    "                else:\n",
    "                    ssCnt[can] += 1\n",
    "    numItems = len(D)\n",
    "    retList = []\n",
    "    supportData = {}\n",
    "    # Calculate support for every itemset\n",
    "    for key in ssCnt:\n",
    "        support = ssCnt[key] / numItems\n",
    "        if support >= minSupport:\n",
    "            retList.insert(0, key)\n",
    "        supportData[key] = support\n",
    "    return retList, supportData"
   ]
  },
  {
   "cell_type": "code",
   "execution_count": 2,
   "metadata": {
    "collapsed": true
   },
   "outputs": [],
   "source": [
    "# The Apriori algorithm\n",
    "# While the number of items in the set is greater than 0:\n",
    "#     Create a list of candidate itemsets of length k\n",
    "#     Scan the dataset to see if each itemset is frequent\n",
    "#     Keep frequent itemsets to create itemsets of length k+1\n",
    "def aprioriGen(Lk, k):\n",
    "    retList = []\n",
    "    lenLk = len(Lk)\n",
    "    for i in range(lenLk):\n",
    "        for j in range(i + 1, lenLk):\n",
    "            # Join sets if first k-2 items are equal\n",
    "            L1 = list(Lk[i])[:k - 2]\n",
    "            L2 = list(Lk[j])[:k - 2]\n",
    "            L1.sort()\n",
    "            L2.sort()\n",
    "            if L1 == L2:\n",
    "                retList.append(Lk[i] | Lk[j])\n",
    "    return retList\n",
    "\n",
    "\n",
    "def apriori(dataSet, minSupport=0.5):\n",
    "    C1 = createC1(dataSet)\n",
    "    D = list(map(set, dataSet))\n",
    "    L1, supportData = scanD(D, C1, minSupport)\n",
    "    L = [L1]\n",
    "    k = 2\n",
    "    while len(L[k - 2]) > 0:\n",
    "        Ck = aprioriGen(L[k - 2], k)\n",
    "        # Scan data set to get Lk from Ck\n",
    "        Lk, supK = scanD(D, Ck, minSupport)\n",
    "        supportData.update(supK)\n",
    "        L.append(Lk)\n",
    "        k += 1\n",
    "    return L, supportData"
   ]
  },
  {
   "cell_type": "code",
   "execution_count": 3,
   "metadata": {
    "collapsed": true
   },
   "outputs": [],
   "source": [
    "# Association rule-generation functions\n",
    "def generateRules(L, supportData, minConf=0.7):\n",
    "    bigRuleList = []\n",
    "    # Get only sets with two or more items\n",
    "    for i in range(1, len(L)):\n",
    "        for freqSet in L[i]:\n",
    "            H1 = [frozenset([item]) for item in freqSet]\n",
    "            if i > 1:\n",
    "                rulesFromConseq(freqSet, H1, supportData, bigRuleList, minConf)\n",
    "            else:\n",
    "                calcConf(freqSet, H1, supportData, bigRuleList, minConf)\n",
    "    return bigRuleList\n",
    "\n",
    "\n",
    "def calcConf(freqSet, H, supportData, brl, minConf=0.7):\n",
    "    prunedH = []\n",
    "    for conseq in H:\n",
    "        conf = supportData[freqSet] / supportData[freqSet - conseq]\n",
    "        if conf >= minConf:\n",
    "            print(freqSet - conseq, '-->', conseq, 'conf:', conf)\n",
    "            brl.append((freqSet - conseq, conseq, conf))\n",
    "            prunedH.append(conseq)\n",
    "    return prunedH\n",
    "\n",
    "\n",
    "def rulesFromConseq(freqSet, H, supportData, brl, minConf=0.7):\n",
    "    m = len(H[0])\n",
    "    # Try further merging\n",
    "    if len(freqSet) > m + 1:\n",
    "        # Create Hm+1 new candidates\n",
    "        Hmp1 = aprioriGen(H, m + 1)\n",
    "        Hmp1 = calcConf(freqSet, Hmp1, supportData, brl, minConf)\n",
    "        if len(Hmp1) > 1:\n",
    "            rulesFromConseq(freqSet, Hmp1, supportData, brl, minConf)"
   ]
  },
  {
   "cell_type": "markdown",
   "metadata": {},
   "source": [
    "### Experiment 1: Toy dataset"
   ]
  },
  {
   "cell_type": "code",
   "execution_count": 4,
   "metadata": {
    "collapsed": true
   },
   "outputs": [],
   "source": [
    "def loadDataSet():\n",
    "    return [[1, 3, 4], [2, 3, 5], [1, 2, 3, 5], [2, 5]]"
   ]
  },
  {
   "cell_type": "code",
   "execution_count": 5,
   "metadata": {
    "collapsed": true
   },
   "outputs": [],
   "source": [
    "dataSet = loadDataSet()"
   ]
  },
  {
   "cell_type": "code",
   "execution_count": 6,
   "metadata": {
    "collapsed": true
   },
   "outputs": [],
   "source": [
    "L, suppData = apriori(dataSet)"
   ]
  },
  {
   "cell_type": "code",
   "execution_count": 7,
   "metadata": {},
   "outputs": [
    {
     "data": {
      "text/plain": [
       "[[frozenset({5}), frozenset({2}), frozenset({3}), frozenset({1})],\n",
       " [frozenset({2, 3}), frozenset({3, 5}), frozenset({2, 5}), frozenset({1, 3})],\n",
       " [frozenset({2, 3, 5})],\n",
       " []]"
      ]
     },
     "execution_count": 7,
     "metadata": {},
     "output_type": "execute_result"
    }
   ],
   "source": [
    "L"
   ]
  },
  {
   "cell_type": "code",
   "execution_count": 8,
   "metadata": {
    "collapsed": true
   },
   "outputs": [],
   "source": [
    "L, suppData = apriori(dataSet, minSupport=0.7)"
   ]
  },
  {
   "cell_type": "code",
   "execution_count": 9,
   "metadata": {},
   "outputs": [
    {
     "data": {
      "text/plain": [
       "[[frozenset({5}), frozenset({2}), frozenset({3})], [frozenset({2, 5})], []]"
      ]
     },
     "execution_count": 9,
     "metadata": {},
     "output_type": "execute_result"
    }
   ],
   "source": [
    "L"
   ]
  },
  {
   "cell_type": "code",
   "execution_count": 10,
   "metadata": {
    "collapsed": true
   },
   "outputs": [],
   "source": [
    "L, suppData = apriori(dataSet)"
   ]
  },
  {
   "cell_type": "code",
   "execution_count": 11,
   "metadata": {},
   "outputs": [
    {
     "name": "stdout",
     "output_type": "stream",
     "text": [
      "frozenset({5}) --> frozenset({2}) conf: 1.0\n",
      "frozenset({2}) --> frozenset({5}) conf: 1.0\n",
      "frozenset({1}) --> frozenset({3}) conf: 1.0\n"
     ]
    }
   ],
   "source": [
    "rules = generateRules(L, suppData)"
   ]
  },
  {
   "cell_type": "code",
   "execution_count": 12,
   "metadata": {},
   "outputs": [
    {
     "name": "stdout",
     "output_type": "stream",
     "text": [
      "frozenset({3}) --> frozenset({2}) conf: 0.6666666666666666\n",
      "frozenset({2}) --> frozenset({3}) conf: 0.6666666666666666\n",
      "frozenset({5}) --> frozenset({3}) conf: 0.6666666666666666\n",
      "frozenset({3}) --> frozenset({5}) conf: 0.6666666666666666\n",
      "frozenset({5}) --> frozenset({2}) conf: 1.0\n",
      "frozenset({2}) --> frozenset({5}) conf: 1.0\n",
      "frozenset({3}) --> frozenset({1}) conf: 0.6666666666666666\n",
      "frozenset({1}) --> frozenset({3}) conf: 1.0\n",
      "frozenset({5}) --> frozenset({2, 3}) conf: 0.6666666666666666\n",
      "frozenset({3}) --> frozenset({2, 5}) conf: 0.6666666666666666\n",
      "frozenset({2}) --> frozenset({3, 5}) conf: 0.6666666666666666\n"
     ]
    }
   ],
   "source": [
    "rules = generateRules(L, suppData, minConf=0.5)"
   ]
  },
  {
   "cell_type": "markdown",
   "metadata": {},
   "source": [
    "### Experiment 2: Congressional voting dataset"
   ]
  },
  {
   "cell_type": "code",
   "execution_count": 13,
   "metadata": {
    "collapsed": true
   },
   "outputs": [],
   "source": [
    "# API no longer free, use cached data provided by the author\n",
    "input_file = open(\"meaning20.txt\")\n",
    "itemMeaning = [line.strip() for line in input_file.readlines()]\n",
    "input_file.close()\n",
    "input_file = open(\"bills20DataSet.txt\")\n",
    "lines = [line.strip() for line in input_file.readlines()]\n",
    "assert lines[0][0] == \"(\"\n",
    "lines = lines[1:]\n",
    "input_file.close()\n",
    "dataSet, cur = [], []\n",
    "for line in lines:\n",
    "    if line[0] == \"(\":\n",
    "        dataSet.append(cur)\n",
    "        cur = []\n",
    "    elif line[0] == \"I\":\n",
    "        cur.append(int(line[1:]))\n",
    "    elif line[:2] == \"aI\":\n",
    "        cur.append(int(line[2:]))\n",
    "    else:\n",
    "        raise ValueError\n",
    "dataSet.append(cur)"
   ]
  },
  {
   "cell_type": "code",
   "execution_count": 14,
   "metadata": {
    "collapsed": true
   },
   "outputs": [],
   "source": [
    "L, suppData = apriori(dataSet, minSupport=0.3)"
   ]
  },
  {
   "cell_type": "code",
   "execution_count": 15,
   "metadata": {},
   "outputs": [
    {
     "name": "stdout",
     "output_type": "stream",
     "text": [
      "frozenset({3}) --> frozenset({0}) conf: 0.9956140350877194\n",
      "frozenset({3}) --> frozenset({9}) conf: 1.0\n",
      "frozenset({3}) --> frozenset({0, 9}) conf: 0.9956140350877194\n",
      "frozenset({3, 7}) --> frozenset({0, 9}) conf: 0.9954954954954954\n",
      "frozenset({3, 23}) --> frozenset({0, 9}) conf: 0.9954545454545454\n",
      "frozenset({25, 3}) --> frozenset({0, 9}) conf: 0.9953488372093025\n",
      "frozenset({26, 3}) --> frozenset({0, 9}) conf: 1.0\n",
      "frozenset({3, 4}) --> frozenset({0, 9}) conf: 0.9953488372093025\n",
      "frozenset({26, 3, 4}) --> frozenset({0, 9}) conf: 1.0\n",
      "frozenset({25, 3, 4}) --> frozenset({0, 9}) conf: 0.9950495049504952\n",
      "frozenset({3, 4, 23}) --> frozenset({0, 9}) conf: 0.9951923076923077\n",
      "frozenset({25, 26, 3}) --> frozenset({0, 9}) conf: 1.0\n",
      "frozenset({26, 3, 23}) --> frozenset({0, 9}) conf: 1.0\n",
      "frozenset({25, 3, 23}) --> frozenset({0, 9}) conf: 0.9951690821256038\n",
      "frozenset({26, 3, 7}) --> frozenset({0, 9}) conf: 1.0\n",
      "frozenset({25, 3, 7}) --> frozenset({0, 9}) conf: 0.9952153110047847\n",
      "frozenset({3, 23, 7}) --> frozenset({0, 9}) conf: 0.9953488372093025\n",
      "frozenset({3, 4, 7}) --> frozenset({0, 9}) conf: 0.9952380952380953\n",
      "frozenset({3, 4, 23, 7}) --> frozenset({0, 9}) conf: 0.9950980392156863\n",
      "frozenset({25, 3, 4, 7}) --> frozenset({0, 9}) conf: 0.9949238578680204\n",
      "frozenset({26, 3, 4, 7}) --> frozenset({0, 9}) conf: 1.0\n",
      "frozenset({25, 3, 23, 7}) --> frozenset({0, 9}) conf: 0.9950495049504952\n",
      "frozenset({26, 3, 23, 7}) --> frozenset({0, 9}) conf: 1.0\n",
      "frozenset({25, 26, 3, 7}) --> frozenset({0, 9}) conf: 1.0\n",
      "frozenset({25, 26, 3, 23}) --> frozenset({0, 9}) conf: 1.0\n",
      "frozenset({25, 3, 4, 23}) --> frozenset({0, 9}) conf: 0.9948717948717949\n",
      "frozenset({26, 3, 4, 23}) --> frozenset({0, 9}) conf: 1.0\n",
      "frozenset({25, 26, 3, 4}) --> frozenset({0, 9}) conf: 1.0\n",
      "frozenset({3, 4, 23, 25, 26}) --> frozenset({0, 9}) conf: 1.0\n",
      "frozenset({3, 7, 23, 25, 26}) --> frozenset({0, 9}) conf: 1.0\n",
      "frozenset({3, 4, 7, 25, 26}) --> frozenset({0, 9}) conf: 1.0\n",
      "frozenset({3, 4, 7, 23, 26}) --> frozenset({0, 9}) conf: 1.0\n",
      "frozenset({3, 4, 7, 23, 25}) --> frozenset({0, 9}) conf: 0.9947643979057591\n"
     ]
    }
   ],
   "source": [
    "rules = generateRules(L, suppData, minConf=0.99)"
   ]
  },
  {
   "cell_type": "code",
   "execution_count": 16,
   "metadata": {
    "collapsed": true
   },
   "outputs": [],
   "source": [
    "def pntRules(ruleList, itemMeaning):\n",
    "    for ruleTup in ruleList:\n",
    "        for item in ruleTup[0]:\n",
    "            print(itemMeaning[item])\n",
    "        print(\"           -------->\")\n",
    "        for item in ruleTup[1]:\n",
    "            print(itemMeaning[item])\n",
    "        print(\"confidence: %f\" % ruleTup[2])\n",
    "        print()"
   ]
  },
  {
   "cell_type": "code",
   "execution_count": 17,
   "metadata": {},
   "outputs": [
    {
     "name": "stdout",
     "output_type": "stream",
     "text": [
      "Prohibiting Federal Funding of National Public Radio -- Yea\n",
      "           -------->\n",
      "Republican\n",
      "confidence: 0.995614\n",
      "\n",
      "Prohibiting Federal Funding of National Public Radio -- Yea\n",
      "           -------->\n",
      "Repealing the Health Care Bill -- Yea\n",
      "confidence: 1.000000\n",
      "\n",
      "Prohibiting Federal Funding of National Public Radio -- Yea\n",
      "           -------->\n",
      "Republican\n",
      "Repealing the Health Care Bill -- Yea\n",
      "confidence: 0.995614\n",
      "\n"
     ]
    }
   ],
   "source": [
    "pntRules(rules[:3], itemMeaning)"
   ]
  },
  {
   "cell_type": "markdown",
   "metadata": {
    "collapsed": true
   },
   "source": [
    "### Experiment 3: Mushroom dataset"
   ]
  },
  {
   "cell_type": "code",
   "execution_count": 18,
   "metadata": {
    "collapsed": true
   },
   "outputs": [],
   "source": [
    "mushDatSet = [line.split() for line in open('mushroom.dat').readlines()]\n",
    "L, suppData = apriori(mushDatSet, minSupport=0.3)"
   ]
  },
  {
   "cell_type": "code",
   "execution_count": 19,
   "metadata": {},
   "outputs": [
    {
     "name": "stdout",
     "output_type": "stream",
     "text": [
      "frozenset({'2', '28'})\n",
      "frozenset({'2', '53'})\n",
      "frozenset({'2', '23'})\n",
      "frozenset({'2', '34'})\n",
      "frozenset({'2', '36'})\n"
     ]
    }
   ],
   "source": [
    "print_cnt = 0\n",
    "for item in L[1]:\n",
    "    if item.intersection('2'):\n",
    "        print(item)\n",
    "        print_cnt += 1\n",
    "        if print_cnt == 5:\n",
    "            break"
   ]
  },
  {
   "cell_type": "code",
   "execution_count": 20,
   "metadata": {},
   "outputs": [
    {
     "name": "stdout",
     "output_type": "stream",
     "text": [
      "frozenset({'34', '28', '63', '2'})\n",
      "frozenset({'86', '34', '28', '2'})\n",
      "frozenset({'34', '28', '2', '59'})\n",
      "frozenset({'28', '63', '2', '59'})\n",
      "frozenset({'86', '28', '2', '59'})\n"
     ]
    }
   ],
   "source": [
    "print_cnt = 0\n",
    "for item in L[3]:\n",
    "    if item.intersection('2'):\n",
    "        print(item)\n",
    "        print_cnt += 1\n",
    "        if print_cnt == 5:\n",
    "            break"
   ]
  }
 ],
 "metadata": {
  "kernelspec": {
   "display_name": "Python 3",
   "language": "python",
   "name": "python3"
  },
  "language_info": {
   "codemirror_mode": {
    "name": "ipython",
    "version": 3
   },
   "file_extension": ".py",
   "mimetype": "text/x-python",
   "name": "python",
   "nbconvert_exporter": "python",
   "pygments_lexer": "ipython3",
   "version": "3.6.3"
  }
 },
 "nbformat": 4,
 "nbformat_minor": 2
}
