{
 "cells": [
  {
   "cell_type": "markdown",
   "metadata": {},
   "source": [
    "## Predicting numeric values regression"
   ]
  },
  {
   "cell_type": "markdown",
   "metadata": {},
   "source": [
    "- Pros: Easy to interpret results, computationally inexpensive\n",
    "- Cons: Poorly models nonlinear data\n",
    "- Works with: Numeric values, nominal values"
   ]
  },
  {
   "cell_type": "code",
   "execution_count": 1,
   "metadata": {
    "collapsed": true
   },
   "outputs": [],
   "source": [
    "import re\n",
    "import numpy as np\n",
    "import matplotlib.pyplot as plt\n",
    "%matplotlib inline"
   ]
  },
  {
   "cell_type": "markdown",
   "metadata": {},
   "source": [
    "### Implement Linear Regression"
   ]
  },
  {
   "cell_type": "markdown",
   "metadata": {},
   "source": [
    "Linear Regression: $\\theta=(X^TX)^{-1}X^Ty$"
   ]
  },
  {
   "cell_type": "code",
   "execution_count": 2,
   "metadata": {
    "collapsed": true
   },
   "outputs": [],
   "source": [
    "# Standard regression function and data-importing functions\n",
    "def standRegres(xArr, yArr):\n",
    "    xTx = np.dot(xArr.T, xArr)\n",
    "    if np.linalg.det(xTx) == 0.0:\n",
    "        print(\"This matrix is singular, cannot do inverse\")\n",
    "        return\n",
    "    ws = np.dot(np.linalg.inv(xTx),\n",
    "                np.dot(xArr.T, yArr[:, np.newaxis]))\n",
    "    return ws"
   ]
  },
  {
   "cell_type": "markdown",
   "metadata": {},
   "source": [
    "Locally Weighted Linear Regression: $\\theta=(X^TWX)^{-1}X^TWy$"
   ]
  },
  {
   "cell_type": "code",
   "execution_count": 3,
   "metadata": {},
   "outputs": [],
   "source": [
    "# Locally weighted linear regression function\n",
    "def lwlr(testPoint, xArr, yArr, k=1.0):\n",
    "    m = xArr.shape[0]\n",
    "    # Create diagonal matrix\n",
    "    weights = np.eye(m)\n",
    "    for j in range(m):\n",
    "        diffMat = testPoint - xArr[j]\n",
    "        # Populate weights with exponentially decaying values\n",
    "        weights[j, j] = np.exp(np.dot(diffMat, diffMat) / (-2 * k ** 2))\n",
    "    xTx = np.dot(xArr.T, np.dot(weights, xArr))\n",
    "    if np.linalg.det(xTx) == 0.0:\n",
    "        print(\"This matrix is singular, cannot do inverse\")\n",
    "        return\n",
    "    ws = np.dot(np.linalg.inv(xTx),\n",
    "                np.dot(xArr.T, np.dot(weights, yArr[:, np.newaxis])))\n",
    "    return np.dot(testPoint, ws)[0]\n",
    "\n",
    "\n",
    "def lwlrTest(testArr, xArr, yArr, k=1.0):\n",
    "    m = testArr.shape[0]\n",
    "    yHat = np.zeros(m)\n",
    "    for i in range(m):\n",
    "        yHat[i] = lwlr(testArr[i], xArr, yArr, k)\n",
    "    return yHat"
   ]
  },
  {
   "cell_type": "code",
   "execution_count": 4,
   "metadata": {
    "collapsed": true
   },
   "outputs": [],
   "source": [
    "def rssError(yArr, yHatArr):\n",
    "    return ((yArr - yHatArr) ** 2).sum()"
   ]
  },
  {
   "cell_type": "markdown",
   "metadata": {},
   "source": [
    "Ridge Regression: $\\theta=(X^TX+\\lambda I)^{-1}X^Ty$"
   ]
  },
  {
   "cell_type": "code",
   "execution_count": 5,
   "metadata": {
    "collapsed": true
   },
   "outputs": [],
   "source": [
    "# Ridge regression\n",
    "def ridgeRegres(xArr, yArr, lam=0.2):\n",
    "    xTx = np.dot(xArr.T, xArr)\n",
    "    denom = xTx + np.eye(xArr.shape[1]) * lam\n",
    "    if np.linalg.det(denom) == 0.0:\n",
    "        print(\"This matrix is singular, cannot do inverse\")\n",
    "        return\n",
    "    ws = np.dot(np.linalg.inv(denom),\n",
    "                np.dot(xArr.T, yArr[:, np.newaxis]))\n",
    "    return ws\n",
    "\n",
    "\n",
    "def ridgeTest(xArr, yArr):\n",
    "    # Normalization code\n",
    "    yMean = np.mean(yArr)\n",
    "    yArr = yArr - yMean\n",
    "    xMeans = np.mean(xArr, axis=0)\n",
    "    xStd = np.std(xArr, axis=0)\n",
    "    xArr = (xArr - xMeans) / xStd\n",
    "    numTestPts = 30\n",
    "    wMat = np.zeros((numTestPts, xArr.shape[1]))\n",
    "    for i in range(numTestPts):\n",
    "        ws = ridgeRegres(xArr, yArr, np.exp(i - 10))\n",
    "        wMat[i, :] = ws.ravel()\n",
    "    return wMat"
   ]
  },
  {
   "cell_type": "code",
   "execution_count": 6,
   "metadata": {
    "collapsed": true
   },
   "outputs": [],
   "source": [
    "# Forward stagewise linear regression\n",
    "# Regularize the data to have 0 mean and unit variance\n",
    "# For every iteration:\n",
    "#     Set lowestError to + Inf\n",
    "#     For every feature:\n",
    "#         For increasing and decreasing:\n",
    "#             Change one coefficient to get a new W\n",
    "#             Calculate the Error with new W\n",
    "#             If the Error is lower than lowestError:\n",
    "#               set Wbest to the current W\n",
    "#     Update set W to Wbest\n",
    "def regularize(xArr):\n",
    "    inArr = xArr.copy()\n",
    "    inMeans = np.mean(inArr, axis=0)\n",
    "    inStd = np.std(inArr, axis=0)\n",
    "    inArr = (inArr - inMeans) / inStd\n",
    "    return inArr\n",
    "\n",
    "\n",
    "def stageWise(xArr, yArr, eps=0.01, numIt=100):\n",
    "    yMean = np.mean(yArr)\n",
    "    yArr = yArr - yMean\n",
    "    xArr = regularize(xArr)\n",
    "    m, n = xArr.shape\n",
    "    returnMat = np.zeros((numIt, n))\n",
    "    ws = np.zeros(n)\n",
    "    wsTest = ws.copy()\n",
    "    wsMax = ws.copy()\n",
    "    for i in range(numIt):\n",
    "        lowestError = np.inf\n",
    "        for j in range(n):\n",
    "            for sign in [-1, 1]:\n",
    "                wsTest = ws.copy()\n",
    "                wsTest[j] += eps * sign\n",
    "                yTest = np.dot(xArr, wsTest)\n",
    "                rssE = rssError(yArr, yTest)\n",
    "                if rssE < lowestError:\n",
    "                    lowestError = rssE\n",
    "                    wsMax = wsTest\n",
    "        ws = wsMax.copy()\n",
    "        returnMat[i] = ws\n",
    "    return returnMat"
   ]
  },
  {
   "cell_type": "markdown",
   "metadata": {},
   "source": [
    "### Experiment 1: Toy dataset"
   ]
  },
  {
   "cell_type": "code",
   "execution_count": 7,
   "metadata": {
    "collapsed": true
   },
   "outputs": [],
   "source": [
    "def loadDataSet(fileName):\n",
    "    numFeat = len(open(fileName).readline().split('\\t')) - 1\n",
    "    dataMat, labelMat = [], []\n",
    "    fr = open(fileName)\n",
    "    for line in fr.readlines():\n",
    "        lineArr = []\n",
    "        curLine = line.strip().split('\\t')\n",
    "        for i in range(numFeat):\n",
    "            lineArr.append(float(curLine[i]))\n",
    "        dataMat.append(lineArr)\n",
    "        labelMat.append(float(curLine[-1]))\n",
    "    return np.array(dataMat), np.array(labelMat)"
   ]
  },
  {
   "cell_type": "code",
   "execution_count": 8,
   "metadata": {
    "collapsed": true
   },
   "outputs": [],
   "source": [
    "# Linear Regression"
   ]
  },
  {
   "cell_type": "code",
   "execution_count": 9,
   "metadata": {
    "collapsed": true
   },
   "outputs": [],
   "source": [
    "xArr, yArr = loadDataSet('ex0.txt')"
   ]
  },
  {
   "cell_type": "code",
   "execution_count": 10,
   "metadata": {},
   "outputs": [
    {
     "name": "stdout",
     "output_type": "stream",
     "text": [
      "[3.00774324 1.69532264]\n"
     ]
    }
   ],
   "source": [
    "ws = standRegres(xArr, yArr)\n",
    "print(ws.ravel())"
   ]
  },
  {
   "cell_type": "code",
   "execution_count": 11,
   "metadata": {},
   "outputs": [
    {
     "name": "stdout",
     "output_type": "stream",
     "text": [
      "[3.12257084 3.73301922 4.69582855 4.25946098 4.67099547]\n"
     ]
    }
   ],
   "source": [
    "yHat = np.dot(xArr, ws).ravel()\n",
    "print(yHat[:5])"
   ]
  },
  {
   "cell_type": "code",
   "execution_count": 12,
   "metadata": {},
   "outputs": [
    {
     "data": {
      "image/png": "[encoded data removed]",
      "text/plain": [
       "<Figure size 432x288 with 1 Axes>"
      ]
     },
     "metadata": {},
     "output_type": "display_data"
    }
   ],
   "source": [
    "fig = plt.figure()\n",
    "ax = fig.add_subplot(111)\n",
    "ax.scatter(xArr[:, 1], yArr, edgecolors=\"black\")\n",
    "xCopy = xArr.copy()\n",
    "xCopy.sort(axis=0)\n",
    "yHat = np.dot(xCopy, ws).ravel()\n",
    "ax.plot(xCopy[:, 1], yHat)\n",
    "plt.show()"
   ]
  },
  {
   "cell_type": "code",
   "execution_count": 13,
   "metadata": {},
   "outputs": [
    {
     "data": {
      "text/plain": [
       "array([[1.        , 0.98647356],\n",
       "       [0.98647356, 1.        ]])"
      ]
     },
     "execution_count": 13,
     "metadata": {},
     "output_type": "execute_result"
    }
   ],
   "source": [
    "yHat = np.dot(xArr, ws)\n",
    "np.corrcoef(yHat.ravel(), yArr)"
   ]
  },
  {
   "cell_type": "code",
   "execution_count": 14,
   "metadata": {
    "collapsed": true
   },
   "outputs": [],
   "source": [
    "# Locally Weighted Linear Regression"
   ]
  },
  {
   "cell_type": "code",
   "execution_count": 15,
   "metadata": {
    "collapsed": true
   },
   "outputs": [],
   "source": [
    "xArr, yArr = loadDataSet('ex0.txt')"
   ]
  },
  {
   "cell_type": "code",
   "execution_count": 16,
   "metadata": {},
   "outputs": [
    {
     "data": {
      "text/plain": [
       "3.122044714056868"
      ]
     },
     "execution_count": 16,
     "metadata": {},
     "output_type": "execute_result"
    }
   ],
   "source": [
    "lwlr(xArr[0], xArr, yArr, 1.0)"
   ]
  },
  {
   "cell_type": "code",
   "execution_count": 17,
   "metadata": {},
   "outputs": [
    {
     "data": {
      "text/plain": [
       "3.201757285525254"
      ]
     },
     "execution_count": 17,
     "metadata": {},
     "output_type": "execute_result"
    }
   ],
   "source": [
    "lwlr(xArr[0], xArr, yArr, 0.001)"
   ]
  },
  {
   "cell_type": "code",
   "execution_count": 18,
   "metadata": {},
   "outputs": [
    {
     "data": {
      "image/png": "[encoded data removed]",
      "text/plain": [
       "<Figure size 432x288 with 1 Axes>"
      ]
     },
     "metadata": {},
     "output_type": "display_data"
    }
   ],
   "source": [
    "yHat = lwlrTest(xArr, xArr, yArr, 0.003)\n",
    "srtInd = xArr[:, 1].argsort(axis=0)\n",
    "xSort = xArr[srtInd]\n",
    "fig = plt.figure()\n",
    "ax = fig.add_subplot(111)\n",
    "ax.plot(xSort[:, 1], yHat[srtInd])\n",
    "ax.scatter(xArr[:, 1], yArr, s=2, c='red')\n",
    "plt.show()"
   ]
  },
  {
   "cell_type": "code",
   "execution_count": 19,
   "metadata": {},
   "outputs": [
    {
     "data": {
      "image/png": "[encoded data removed]",
      "text/plain": [
       "<Figure size 432x288 with 1 Axes>"
      ]
     },
     "metadata": {},
     "output_type": "display_data"
    }
   ],
   "source": [
    "yHat = lwlrTest(xArr, xArr, yArr, 0.01)\n",
    "srtInd = xArr[:, 1].argsort(axis=0)\n",
    "xSort = xArr[srtInd]\n",
    "fig = plt.figure()\n",
    "ax = fig.add_subplot(111)\n",
    "ax.plot(xSort[:, 1], yHat[srtInd])\n",
    "ax.scatter(xArr[:, 1], yArr, s=2, c='red')\n",
    "plt.show()"
   ]
  },
  {
   "cell_type": "code",
   "execution_count": 20,
   "metadata": {},
   "outputs": [
    {
     "data": {
      "image/png": "[encoded data removed]",
      "text/plain": [
       "<Figure size 432x288 with 1 Axes>"
      ]
     },
     "metadata": {},
     "output_type": "display_data"
    }
   ],
   "source": [
    "yHat = lwlrTest(xArr, xArr, yArr, 1)\n",
    "srtInd = xArr[:, 1].argsort(axis=0)\n",
    "xSort = xArr[srtInd]\n",
    "fig = plt.figure()\n",
    "ax = fig.add_subplot(111)\n",
    "ax.plot(xSort[:, 1], yHat[srtInd])\n",
    "ax.scatter(xArr[:, 1], yArr, s=2, c='red')\n",
    "plt.show()"
   ]
  },
  {
   "cell_type": "markdown",
   "metadata": {},
   "source": [
    "### Experiment 2: Abalone dataset"
   ]
  },
  {
   "cell_type": "code",
   "execution_count": 21,
   "metadata": {
    "collapsed": true
   },
   "outputs": [],
   "source": [
    "abX, abY = loadDataSet('abalone.txt')"
   ]
  },
  {
   "cell_type": "code",
   "execution_count": 22,
   "metadata": {
    "collapsed": true
   },
   "outputs": [],
   "source": [
    "# Locally Weighted Linear Regression"
   ]
  },
  {
   "cell_type": "code",
   "execution_count": 23,
   "metadata": {},
   "outputs": [
    {
     "name": "stdout",
     "output_type": "stream",
     "text": [
      "56.78420911837208\n",
      "429.89056187030394\n",
      "549.1181708826065\n"
     ]
    }
   ],
   "source": [
    "yHat01 = lwlrTest(abX[0: 99], abX[0: 99], abY[0: 99], 0.1)\n",
    "yHat1 = lwlrTest(abX[0: 99], abX[0: 99], abY[0: 99], 1)\n",
    "yHat10 = lwlrTest(abX[0: 99], abX[0: 99], abY[0: 99], 10)\n",
    "print(rssError(abY[0: 99], yHat01))\n",
    "print(rssError(abY[0: 99], yHat1))\n",
    "print(rssError(abY[0: 99], yHat10))"
   ]
  },
  {
   "cell_type": "code",
   "execution_count": 24,
   "metadata": {},
   "outputs": [
    {
     "name": "stdout",
     "output_type": "stream",
     "text": [
      "25119.459111157415\n",
      "573.5261441895706\n",
      "517.5711905381745\n"
     ]
    }
   ],
   "source": [
    "yHat01 = lwlrTest(abX[100: 199], abX[0: 99], abY[0: 99], 0.1)\n",
    "yHat1 = lwlrTest(abX[100: 199], abX[0: 99], abY[0: 99], 1)\n",
    "yHat10 = lwlrTest(abX[100: 199], abX[0: 99], abY[0: 99], 10)\n",
    "print(rssError(abY[100: 199], yHat01))\n",
    "print(rssError(abY[100: 199], yHat1))\n",
    "print(rssError(abY[100: 199], yHat10))"
   ]
  },
  {
   "cell_type": "code",
   "execution_count": 25,
   "metadata": {
    "collapsed": true
   },
   "outputs": [],
   "source": [
    "# Linear Regression"
   ]
  },
  {
   "cell_type": "code",
   "execution_count": 26,
   "metadata": {},
   "outputs": [
    {
     "name": "stdout",
     "output_type": "stream",
     "text": [
      "518.6363153249081\n"
     ]
    }
   ],
   "source": [
    "ws = standRegres(abX[0: 99], abY[0: 99])\n",
    "yHat = np.dot(abX[100: 199], ws).ravel()\n",
    "print(rssError(abY[100: 199], yHat))"
   ]
  },
  {
   "cell_type": "code",
   "execution_count": 27,
   "metadata": {
    "collapsed": true
   },
   "outputs": [],
   "source": [
    "# Ridge Regression"
   ]
  },
  {
   "cell_type": "code",
   "execution_count": 28,
   "metadata": {
    "collapsed": true
   },
   "outputs": [],
   "source": [
    "abX, abY = loadDataSet('abalone.txt')"
   ]
  },
  {
   "cell_type": "code",
   "execution_count": 29,
   "metadata": {},
   "outputs": [
    {
     "data": {
      "image/png": "[encoded data removed]",
      "text/plain": [
       "<Figure size 432x288 with 1 Axes>"
      ]
     },
     "metadata": {},
     "output_type": "display_data"
    }
   ],
   "source": [
    "ridgeWeights = ridgeTest(abX, abY)\n",
    "fig = plt.figure()\n",
    "ax = fig.add_subplot(111)\n",
    "ax.plot(ridgeWeights)\n",
    "plt.show()"
   ]
  },
  {
   "cell_type": "code",
   "execution_count": 30,
   "metadata": {
    "collapsed": true
   },
   "outputs": [],
   "source": [
    "# Forward Stagewise Linear Regression"
   ]
  },
  {
   "cell_type": "code",
   "execution_count": 31,
   "metadata": {
    "collapsed": true
   },
   "outputs": [],
   "source": [
    "xArr, yArr = loadDataSet('abalone.txt')"
   ]
  },
  {
   "cell_type": "code",
   "execution_count": 32,
   "metadata": {},
   "outputs": [
    {
     "data": {
      "text/plain": [
       "array([[ 0.  ,  0.  ,  0.  , ...,  0.  ,  0.  ,  0.01],\n",
       "       [ 0.  ,  0.  ,  0.  , ...,  0.  ,  0.  ,  0.02],\n",
       "       [ 0.  ,  0.  ,  0.  , ...,  0.  ,  0.  ,  0.03],\n",
       "       ...,\n",
       "       [ 0.  ,  0.  ,  0.  , ..., -0.07,  0.  ,  1.59],\n",
       "       [ 0.  ,  0.  ,  0.  , ..., -0.07,  0.  ,  1.6 ],\n",
       "       [ 0.  ,  0.  ,  0.  , ..., -0.08,  0.  ,  1.6 ]])"
      ]
     },
     "execution_count": 32,
     "metadata": {},
     "output_type": "execute_result"
    }
   ],
   "source": [
    "stageWise(xArr, yArr, 0.01, 200)"
   ]
  },
  {
   "cell_type": "code",
   "execution_count": 33,
   "metadata": {},
   "outputs": [
    {
     "data": {
      "text/plain": [
       "array([[ 0.   ,  0.   ,  0.   , ...,  0.   ,  0.   ,  0.005],\n",
       "       [ 0.   ,  0.   ,  0.   , ...,  0.   ,  0.   ,  0.01 ],\n",
       "       [ 0.   ,  0.   ,  0.   , ...,  0.   ,  0.   ,  0.015],\n",
       "       ...,\n",
       "       [ 0.055, -0.11 ,  1.245, ..., -4.39 , -1.005,  1.295],\n",
       "       [ 0.05 , -0.11 ,  1.245, ..., -4.39 , -1.005,  1.295],\n",
       "       [ 0.055, -0.11 ,  1.245, ..., -4.39 , -1.005,  1.295]])"
      ]
     },
     "execution_count": 33,
     "metadata": {},
     "output_type": "execute_result"
    }
   ],
   "source": [
    "stageWise(xArr, yArr, 0.005, 5000)"
   ]
  },
  {
   "cell_type": "code",
   "execution_count": 34,
   "metadata": {},
   "outputs": [
    {
     "data": {
      "text/plain": [
       "array([ 0.05235616, -0.18938966,  1.33168957,  0.49619321,  4.53579572,\n",
       "       -4.50107876, -1.06982725,  1.19429503])"
      ]
     },
     "execution_count": 34,
     "metadata": {},
     "output_type": "execute_result"
    }
   ],
   "source": [
    "xArr, yArr = loadDataSet('abalone.txt')\n",
    "xArr = regularize(xArr)\n",
    "yMean = np.mean(yArr)\n",
    "yArr = yArr - yMean\n",
    "weights = standRegres(xArr, yArr)\n",
    "weights.ravel()"
   ]
  },
  {
   "cell_type": "code",
   "execution_count": 35,
   "metadata": {},
   "outputs": [
    {
     "data": {
      "image/png": "[encoded data removed]",
      "text/plain": [
       "<Figure size 432x288 with 1 Axes>"
      ]
     },
     "metadata": {},
     "output_type": "display_data"
    }
   ],
   "source": [
    "xArr, yArr = loadDataSet('abalone.txt')\n",
    "fig = plt.figure()\n",
    "ax = fig.add_subplot(111)\n",
    "ax.plot(stageWise(xArr, yArr, 0.005, 5000))\n",
    "plt.show()"
   ]
  },
  {
   "cell_type": "markdown",
   "metadata": {},
   "source": [
    "### Experiment 3: LEGO set dataset"
   ]
  },
  {
   "cell_type": "code",
   "execution_count": 36,
   "metadata": {
    "collapsed": true
   },
   "outputs": [],
   "source": [
    "# Shopping information retrieval function\n",
    "# Load from local cache, unable to retrieve NewOrUsed feature\n",
    "def searchForSet(retX, retY, setNum, yr, numPce, origPrc):\n",
    "    file_name = \"setHtml/lego\" + str(setNum) + \".html\"\n",
    "    input_file = open(file_name, encoding=\"utf8\")\n",
    "    page = input_file.read()\n",
    "    input_file.close()\n",
    "    pattern = re.compile(r'\\$([\\d,]+\\.\\d+)')\n",
    "    result = pattern.findall(page)\n",
    "    for price in result:\n",
    "        price = price.replace(\",\", \"\")\n",
    "        # Filter out fractional sets\n",
    "        if float(price) <= origPrc * 0.5:\n",
    "            continue\n",
    "        retX.append([yr, numPce, origPrc])\n",
    "        retY.append(float(price))\n",
    "\n",
    "\n",
    "def setDataCollect(retX, retY):\n",
    "    searchForSet(retX, retY, 8288, 2006, 800, 49.99)\n",
    "    searchForSet(retX, retY, 10030, 2002, 3096, 269.99)\n",
    "    searchForSet(retX, retY, 10179, 2007, 5195, 499.99)\n",
    "    searchForSet(retX, retY, 10181, 2007, 3428, 199.99)\n",
    "    searchForSet(retX, retY, 10189, 2008, 5922, 299.99)\n",
    "    searchForSet(retX, retY, 10196, 2009, 3263, 249.99)"
   ]
  },
  {
   "cell_type": "code",
   "execution_count": 37,
   "metadata": {
    "collapsed": true
   },
   "outputs": [],
   "source": [
    "lgX, lgY = [], []\n",
    "setDataCollect(lgX, lgY)\n",
    "lgX, lgY = np.array(lgX), np.array(lgY)"
   ]
  },
  {
   "cell_type": "code",
   "execution_count": 38,
   "metadata": {},
   "outputs": [
    {
     "name": "stdout",
     "output_type": "stream",
     "text": [
      "[ 5.09659003e+04 -2.54263163e+01 -2.92992001e-02  2.66427939e+00]\n"
     ]
    }
   ],
   "source": [
    "lgX1 = np.ones((82, 4))\n",
    "lgX1[:, 1: 4] = lgX\n",
    "ws = standRegres(lgX1, lgY)\n",
    "print(ws.ravel())"
   ]
  },
  {
   "cell_type": "code",
   "execution_count": 39,
   "metadata": {
    "collapsed": true
   },
   "outputs": [],
   "source": [
    "# Cross-validation testing with ridge regression\n",
    "def crossValidation(xArr, yArr, numVal=10):\n",
    "    m = len(yArr)\n",
    "    indexList = list(range(m))\n",
    "    errorMat = np.zeros((numVal, 30))\n",
    "    for i in range(numVal):\n",
    "        # Create training and test containers\n",
    "        trainX, trainY = [], []\n",
    "        testX, testY = [], []\n",
    "        np.random.shuffle(indexList)\n",
    "        for j in range(m):\n",
    "            # Split data into test and training sets\n",
    "            if j < m * 0.9:\n",
    "                trainX.append(xArr[indexList[j]])\n",
    "                trainY.append(yArr[indexList[j]])\n",
    "            else:\n",
    "                testX.append(xArr[indexList[j]])\n",
    "                testY.append(yArr[indexList[j]])\n",
    "        trainX, trainY = np.array(trainX), np.array(trainY)\n",
    "        testX, testY = np.array(testX), np.array(testY)\n",
    "        wMat = ridgeTest(trainX, trainY)\n",
    "        # Regularize test with training params\n",
    "        meanTrain = np.mean(trainX, axis=0)\n",
    "        stdTrain = np.std(trainX, axis=0)\n",
    "        testX = (testX - meanTrain) / stdTrain\n",
    "        for k in range(30):\n",
    "            yEst = (np.dot(testX, wMat[k][:, np.newaxis]).ravel()\n",
    "                    + np.mean(trainY))\n",
    "            errorMat[i, k] = rssError(yEst, testY)\n",
    "    meanErrors = np.mean(errorMat, axis=0)\n",
    "    bestWeights = wMat[np.argmin(meanErrors)]\n",
    "    # Undo regularization\n",
    "    # can unregularize to get model\n",
    "    # when we regularized we wrote Xreg = (x - meanX) / std(x)\n",
    "    # we can now write in terms of x not Xreg:\n",
    "    # x * w / std(x) - meanX * w / std(x) + meanY\n",
    "    meanX = np.mean(xArr, axis=0)\n",
    "    stdX = np.std(xArr, axis=0)\n",
    "    unReg = bestWeights / stdX\n",
    "    print(\"the best model from Ridge Regression is:\\n\", unReg)\n",
    "    print(\"with constant term: \",\n",
    "          -1 * np.dot(meanX, unReg) + np.mean(yArr))"
   ]
  },
  {
   "cell_type": "code",
   "execution_count": 40,
   "metadata": {},
   "outputs": [
    {
     "name": "stdout",
     "output_type": "stream",
     "text": [
      "the best model from Ridge Regression is:\n",
      " [-2.81344817e+01 -2.18803214e-02  2.37756862e+00]\n",
      "with constant term:  56463.16363285567\n"
     ]
    }
   ],
   "source": [
    "crossValidation(lgX, lgY, 10)"
   ]
  }
 ],
 "metadata": {
  "kernelspec": {
   "display_name": "Python 3",
   "language": "python",
   "name": "python3"
  },
  "language_info": {
   "codemirror_mode": {
    "name": "ipython",
    "version": 3
   },
   "file_extension": ".py",
   "mimetype": "text/x-python",
   "name": "python",
   "nbconvert_exporter": "python",
   "pygments_lexer": "ipython3",
   "version": "3.6.3"
  }
 },
 "nbformat": 4,
 "nbformat_minor": 2
}
