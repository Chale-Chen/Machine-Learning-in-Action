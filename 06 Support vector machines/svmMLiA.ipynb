{
 "cells": [
  {
   "cell_type": "markdown",
   "metadata": {},
   "source": [
    "## Support vector machines"
   ]
  },
  {
   "cell_type": "markdown",
   "metadata": {},
   "source": [
    "- Pros: Low generalization error, computationally inexpensive,\n",
    "    easy to interpret results\n",
    "- Cons: Sensitive to tuning parameters and kernel choice;\n",
    "    natively only handles binary classification\n",
    "- Works with: Numeric values, nominal values"
   ]
  },
  {
   "cell_type": "code",
   "execution_count": 1,
   "metadata": {
    "collapsed": true
   },
   "outputs": [],
   "source": [
    "from os import listdir\n",
    "import numpy as np\n",
    "import matplotlib.pyplot as plt\n",
    "%matplotlib inline"
   ]
  },
  {
   "cell_type": "markdown",
   "metadata": {},
   "source": [
    "### Implement SVM (without kernel)"
   ]
  },
  {
   "cell_type": "code",
   "execution_count": 2,
   "metadata": {
    "collapsed": true
   },
   "outputs": [],
   "source": [
    "# Helper functions for the SMO algorithm\n",
    "def selectJrand(i, m):\n",
    "    j = i\n",
    "    while j == i:\n",
    "        j = np.random.randint(0, m)\n",
    "    return j\n",
    "\n",
    "\n",
    "def clipAlpha(aj, H, L):\n",
    "    if aj > H:\n",
    "        aj = H\n",
    "    if aj < L:\n",
    "        aj = L\n",
    "    return aj"
   ]
  },
  {
   "cell_type": "code",
   "execution_count": 3,
   "metadata": {},
   "outputs": [],
   "source": [
    "# The simplified SMO algorithm\n",
    "# Create an alphas vector filled with 0s\n",
    "# While the number of iterations is less than MaxIterations:\n",
    "#     For every data vector in the dataset:\n",
    "#         If the data vector can be optimized:\n",
    "#             Select another data vector at random\n",
    "#             Optimize the two vectors together\n",
    "#             If the vectors can’t be optimized -> break\n",
    "#     If no vectors were optimized ➞ increment the iteration count\n",
    "def smoSimple(dataMatrix, labelMat, C, toler, maxIter):\n",
    "    m, n = dataMatrix.shape\n",
    "    alphas = np.zeros(m)\n",
    "    b = 0\n",
    "    n_iter = 0\n",
    "    while n_iter < maxIter:\n",
    "        alphaPairsChanged = 0\n",
    "        for i in range(m):\n",
    "            fXi = np.dot(np.multiply(alphas, labelMat),\n",
    "                         np.dot(dataMatrix, dataMatrix[i])) + b\n",
    "            Ei = fXi - labelMat[i]\n",
    "            # Enter optimization if alphas can be changed (KKT conditions)\n",
    "            if ((labelMat[i] * Ei < -toler and alphas[i] < C)\n",
    "                    or (labelMat[i] * Ei > toler and alphas[i] > 0)):\n",
    "                # Randomly select second alpha\n",
    "                j = selectJrand(i, m)\n",
    "                fXj = np.dot(np.multiply(alphas, labelMat),\n",
    "                             np.dot(dataMatrix, dataMatrix[j])) + b\n",
    "                Ej = fXj - labelMat[j]\n",
    "                alphaIold = alphas[i]\n",
    "                alphaJold = alphas[j]\n",
    "                # Guarantee alphas stay between 0 and C\n",
    "                if labelMat[i] != labelMat[j]:\n",
    "                    L = max(0, alphas[j] - alphas[i])\n",
    "                    H = min(C, C + alphas[j] - alphas[i])\n",
    "                else:\n",
    "                    L = max(0, alphas[j] + alphas[i] - C)\n",
    "                    H = min(C, alphas[j] + alphas[i])\n",
    "                if L == H:\n",
    "                    # print(\"L == H\")\n",
    "                    continue\n",
    "                eta = (2.0 * np.dot(dataMatrix[i], dataMatrix[j])\n",
    "                       - np.dot(dataMatrix[i], dataMatrix[i])\n",
    "                       - np.dot(dataMatrix[j], dataMatrix[j]))\n",
    "                if eta >= 0:\n",
    "                    # print(\"eta >= 0\")\n",
    "                    continue\n",
    "                alphas[j] -= labelMat[j] * (Ei - Ej) / eta\n",
    "                alphas[j] = clipAlpha(alphas[j], H, L)\n",
    "                if abs(alphas[j] - alphaJold) < 0.00001:\n",
    "                    # print(\"j not moving enough\")\n",
    "                    continue\n",
    "                # Update i by same amount as j in opposite direction\n",
    "                alphas[i] += (labelMat[j] * labelMat[i]\n",
    "                              * (alphaJold - alphas[j]))\n",
    "                # Set the constant term\n",
    "                b1 = (b - Ei\n",
    "                      - labelMat[i] * (alphas[i] - alphaIold)\n",
    "                      * np.dot(dataMatrix[i], dataMatrix[i])\n",
    "                      - labelMat[j] * (alphas[j] - alphaJold)\n",
    "                      * np.dot(dataMatrix[i], dataMatrix[j]))\n",
    "                b2 = (b - Ej\n",
    "                      - labelMat[i] * (alphas[i] - alphaIold)\n",
    "                      * np.dot(dataMatrix[i], dataMatrix[j])\n",
    "                      - labelMat[j] * (alphas[j] - alphaJold)\n",
    "                      * np.dot(dataMatrix[j], dataMatrix[j]))\n",
    "                if 0 < alphas[i] < C:\n",
    "                    b = b1\n",
    "                elif 0 < alphas[j] < C:\n",
    "                    b = b2\n",
    "                else:\n",
    "                    b = (b1 + b2) / 2\n",
    "                alphaPairsChanged += 1\n",
    "                # print(\"iter: %d i:%d, pairs changed %d\"\n",
    "                #       % (n_iter, i, alphaPairsChanged))\n",
    "        if alphaPairsChanged == 0:\n",
    "            n_iter += 1\n",
    "        else:\n",
    "            n_iter = 0\n",
    "        # print(\"iteration number: %d\" % n_iter)\n",
    "    return b, alphas"
   ]
  },
  {
   "cell_type": "code",
   "execution_count": 4,
   "metadata": {
    "collapsed": true
   },
   "outputs": [],
   "source": [
    "def calcWs(alphas, dataArr, labelMat):\n",
    "    m, n = dataArr.shape\n",
    "    w = np.zeros(n)\n",
    "    for i in range(m):\n",
    "        w += alphas[i] * labelMat[i] * dataArr[i]\n",
    "    return w"
   ]
  },
  {
   "cell_type": "code",
   "execution_count": 5,
   "metadata": {
    "collapsed": true
   },
   "outputs": [],
   "source": [
    "# Support functions for full Platt SMO\n",
    "class optStruct:\n",
    "    def __init__(self, dataMatIn, classLabels, C, toler):\n",
    "        self.X = dataMatIn\n",
    "        self.labelMat = classLabels\n",
    "        self.C = C\n",
    "        self.tol = toler\n",
    "        self.m = dataMatIn.shape[0]\n",
    "        self.alphas = np.zeros(self.m)\n",
    "        self.b = 0\n",
    "        # Error cache\n",
    "        # first column is a flag bit stating whether the eCache is valid\n",
    "        self.eCache = np.zeros((self.m, 2))\n",
    "\n",
    "\n",
    "def calcEk(oS, k):\n",
    "    fXk = np.dot(np.multiply(oS.alphas, oS.labelMat),\n",
    "                 np.dot(oS.X, oS.X[k])) + oS.b\n",
    "    Ek = fXk - oS.labelMat[k]\n",
    "    return Ek\n",
    "\n",
    "\n",
    "# Inner-loop heuristic\n",
    "def selectJ(i, oS, Ei):\n",
    "    maxK = -1\n",
    "    maxDeltaE = 0\n",
    "    Ej = 0\n",
    "    oS.eCache[i] = [1, Ei]\n",
    "    validEcacheList = np.nonzero(oS.eCache[:, 0])[0]\n",
    "    if len(validEcacheList) > 1:\n",
    "        for k in validEcacheList:\n",
    "            if k == i:\n",
    "                continue\n",
    "            Ek = calcEk(oS, k)\n",
    "            deltaE = abs(Ei - Ek)\n",
    "            # Choose j for maximum step size\n",
    "            if deltaE > maxDeltaE:\n",
    "                maxK = k\n",
    "                maxDeltaE = deltaE\n",
    "                Ej = Ek\n",
    "        return maxK, Ej\n",
    "    # If this is your first time through the loop, you randomly select an alpha\n",
    "    else:\n",
    "        j = selectJrand(i, oS.m)\n",
    "        Ej = calcEk(oS, j)\n",
    "    return j, Ej\n",
    "\n",
    "\n",
    "def updateEk(oS, k):\n",
    "    Ek = calcEk(oS, k)\n",
    "    oS.eCache[k] = [1, Ek]"
   ]
  },
  {
   "cell_type": "code",
   "execution_count": 6,
   "metadata": {
    "collapsed": true
   },
   "outputs": [],
   "source": [
    "# Full Platt SMO optimization routine\n",
    "def innerL(i, oS):\n",
    "    Ei = calcEk(oS, i)\n",
    "    if ((oS.labelMat[i] * Ei < -oS.tol and oS.alphas[i] < oS.C)\n",
    "            or (oS.labelMat[i] * Ei > oS.tol and oS.alphas[i] > 0)):\n",
    "        # Second-choice heuristic\n",
    "        j, Ej = selectJ(i, oS, Ei)\n",
    "        alphaIold = oS.alphas[i]\n",
    "        alphaJold = oS.alphas[j]\n",
    "        if oS.labelMat[i] != oS.labelMat[j]:\n",
    "            L = max(0, oS.alphas[j] - oS.alphas[i])\n",
    "            H = min(oS.C, oS.C + oS.alphas[j] - oS.alphas[i])\n",
    "        else:\n",
    "            L = max(0, oS.alphas[j] + oS.alphas[i] - oS.C)\n",
    "            H = min(oS.C, oS.alphas[j] + oS.alphas[i])\n",
    "        if L == H:\n",
    "            # print(\"L == H\")\n",
    "            return 0\n",
    "        eta = (2.0 * np.dot(oS.X[i], oS.X[j])\n",
    "               - np.dot(oS.X[i], oS.X[i])\n",
    "               - np.dot(oS.X[j], oS.X[j]))\n",
    "        if eta >= 0:\n",
    "            # print(\"eta >= 0\")\n",
    "            return 0\n",
    "        oS.alphas[j] -= oS.labelMat[j] * (Ei - Ej) / eta\n",
    "        oS.alphas[j] = clipAlpha(oS.alphas[j], H, L)\n",
    "        # Updates Ecache\n",
    "        updateEk(oS, j)\n",
    "        if abs(oS.alphas[j] - alphaJold) < 0.00001:\n",
    "            # print(\"j not moving enough\")\n",
    "            return 0\n",
    "        oS.alphas[i] += (oS.labelMat[j] * oS.labelMat[i]\n",
    "                         * (alphaJold - oS.alphas[j]))\n",
    "        # Updates Ecache\n",
    "        updateEk(oS, i)\n",
    "        b1 = (oS.b - Ei\n",
    "              - oS.labelMat[i] * (oS.alphas[i] - alphaIold)\n",
    "              * np.dot(oS.X[i], oS.X[i])\n",
    "              - oS.labelMat[j] * (oS.alphas[j] - alphaJold)\n",
    "              * np.dot(oS.X[i], oS.X[j]))\n",
    "        b2 = (oS.b - Ej\n",
    "              - oS.labelMat[i] * (oS.alphas[i] - alphaIold)\n",
    "              * np.dot(oS.X[i], oS.X[j])\n",
    "              - oS.labelMat[j] * (oS.alphas[j] - alphaJold)\n",
    "              * np.dot(oS.X[j], oS.X[j]))\n",
    "        if 0 < oS.alphas[i] < oS.C:\n",
    "            oS.b = b1\n",
    "        elif 0 < oS.alphas[j] < oS.C:\n",
    "            oS.b = b2\n",
    "        else:\n",
    "            oS.b = (b1 + b2) / 2\n",
    "        return 1\n",
    "    else:\n",
    "        return 0"
   ]
  },
  {
   "cell_type": "code",
   "execution_count": 7,
   "metadata": {
    "collapsed": true
   },
   "outputs": [],
   "source": [
    "# Full Platt SMO outer loop\n",
    "def smoP(dataMatIn, classLabels, C, toler, maxIter):\n",
    "    oS = optStruct(dataMatIn, classLabels, C, toler)\n",
    "    n_iter = 0\n",
    "    entireSet = True\n",
    "    alphaPairsChanged = 0\n",
    "    while n_iter < maxIter and (alphaPairsChanged > 0 or entireSet):\n",
    "        alphaPairsChanged = 0\n",
    "        # Go over all values\n",
    "        if entireSet:\n",
    "            for i in range(oS.m):\n",
    "                alphaPairsChanged += innerL(i, oS)\n",
    "                # print(\"fullSet, iter: %d i:%d, pairs changed %d\"\n",
    "                #       % (n_iter, i, alphaPairsChanged))\n",
    "            n_iter += 1\n",
    "        # Go over non-bound values\n",
    "        else:\n",
    "            nonBoundIs = np.nonzero((oS.alphas > 0) * (oS.alphas < C))[0]\n",
    "            for i in nonBoundIs:\n",
    "                alphaPairsChanged += innerL(i, oS)\n",
    "                # print(\"non-bound, iter: %d i:%d, pairs changed %d\"\n",
    "                #       % (n_iter, i, alphaPairsChanged))\n",
    "            n_iter += 1\n",
    "        if entireSet:\n",
    "            entireSet = False\n",
    "        elif alphaPairsChanged == 0:\n",
    "            entireSet = True\n",
    "        print(\"iteration number: %d\" % n_iter)\n",
    "    return oS.b, oS.alphas"
   ]
  },
  {
   "cell_type": "markdown",
   "metadata": {
    "collapsed": true
   },
   "source": [
    "### Experiment 1: Toy dataset"
   ]
  },
  {
   "cell_type": "code",
   "execution_count": 8,
   "metadata": {
    "collapsed": true
   },
   "outputs": [],
   "source": [
    "def loadDataSet(fileName):\n",
    "    dataMat, labelMat = [], []\n",
    "    fr = open(fileName)\n",
    "    for line in fr.readlines():\n",
    "        lineArr = line.strip().split('\\t')\n",
    "        dataMat.append([float(lineArr[0]), float(lineArr[1])])\n",
    "        labelMat.append(float(lineArr[2]))\n",
    "    return np.array(dataMat), np.array(labelMat)"
   ]
  },
  {
   "cell_type": "code",
   "execution_count": 9,
   "metadata": {
    "collapsed": true
   },
   "outputs": [],
   "source": [
    "# The simplified SMO algorithm"
   ]
  },
  {
   "cell_type": "code",
   "execution_count": 10,
   "metadata": {
    "collapsed": true
   },
   "outputs": [],
   "source": [
    "dataArr, labelArr = loadDataSet('testSet.txt')"
   ]
  },
  {
   "cell_type": "code",
   "execution_count": 11,
   "metadata": {},
   "outputs": [],
   "source": [
    "b, alphas = smoSimple(dataArr, labelArr, 0.6, 0.001, 40)"
   ]
  },
  {
   "cell_type": "code",
   "execution_count": 12,
   "metadata": {},
   "outputs": [
    {
     "name": "stdout",
     "output_type": "stream",
     "text": [
      "-3.8120029344585844\n"
     ]
    }
   ],
   "source": [
    "print(b)"
   ]
  },
  {
   "cell_type": "code",
   "execution_count": 13,
   "metadata": {},
   "outputs": [
    {
     "name": "stdout",
     "output_type": "stream",
     "text": [
      "[ 0.80774759 -0.23769058]\n"
     ]
    }
   ],
   "source": [
    "w = calcWs(alphas, dataArr, labelArr)\n",
    "print(w)"
   ]
  },
  {
   "cell_type": "code",
   "execution_count": 14,
   "metadata": {},
   "outputs": [
    {
     "name": "stdout",
     "output_type": "stream",
     "text": [
      "[4.658191 3.507396] -1.0\n",
      "[ 3.457096 -0.082216] -1.0\n",
      "[ 5.286862 -2.358286] 1.0\n",
      "[6.080573 0.418886] 1.0\n"
     ]
    }
   ],
   "source": [
    "# support vectors\n",
    "for i in range(len(alphas)):\n",
    "    if alphas[i] > 0:\n",
    "        print(dataArr[i], labelArr[i])"
   ]
  },
  {
   "cell_type": "code",
   "execution_count": 15,
   "metadata": {},
   "outputs": [
    {
     "data": {
      "image/png": "[encoded data removed]",
      "text/plain": [
       "<Figure size 432x288 with 1 Axes>"
      ]
     },
     "metadata": {},
     "output_type": "display_data"
    }
   ],
   "source": [
    "plt.figure()\n",
    "plt.scatter(dataArr[labelArr == -1][:, 0],\n",
    "            dataArr[labelArr == -1][:, 1], color=\"red\")\n",
    "plt.scatter(dataArr[labelArr == 1][:, 0],\n",
    "            dataArr[labelArr == 1][:, 1], color=\"blue\")\n",
    "plt.plot(np.array([-2, 12]),\n",
    "         ((-np.array([-2, 12]) * w[0] - b) / w[1]),\n",
    "         color=\"black\")\n",
    "for i in range(len(alphas)):\n",
    "    if alphas[i] > 0.0:\n",
    "        if labelArr[i] == -1:\n",
    "            plt.scatter(dataArr[i][0], dataArr[i][1],\n",
    "                        color=\"red\", edgecolors='black', s=100, linewidths=2)\n",
    "        else:\n",
    "            plt.scatter(dataArr[i][0], dataArr[i][1],\n",
    "                        color=\"blue\", edgecolors='black', s=100, linewidths=2)\n",
    "plt.xlim(-2, 12)\n",
    "plt.ylim(-8, 6)\n",
    "plt.show()"
   ]
  },
  {
   "cell_type": "code",
   "execution_count": 16,
   "metadata": {
    "collapsed": true
   },
   "outputs": [],
   "source": [
    "# Full Platt SMO"
   ]
  },
  {
   "cell_type": "code",
   "execution_count": 17,
   "metadata": {
    "collapsed": true
   },
   "outputs": [],
   "source": [
    "dataArr, labelArr = loadDataSet('testSet.txt')"
   ]
  },
  {
   "cell_type": "code",
   "execution_count": 18,
   "metadata": {},
   "outputs": [
    {
     "name": "stdout",
     "output_type": "stream",
     "text": [
      "iteration number: 1\n",
      "iteration number: 2\n",
      "iteration number: 3\n",
      "iteration number: 4\n"
     ]
    }
   ],
   "source": [
    "b, alphas = smoP(dataArr, labelArr, 0.6, 0.001, 40)"
   ]
  },
  {
   "cell_type": "code",
   "execution_count": 19,
   "metadata": {},
   "outputs": [
    {
     "name": "stdout",
     "output_type": "stream",
     "text": [
      "-3.710327594390181\n"
     ]
    }
   ],
   "source": [
    "print(b)"
   ]
  },
  {
   "cell_type": "code",
   "execution_count": 20,
   "metadata": {},
   "outputs": [
    {
     "name": "stdout",
     "output_type": "stream",
     "text": [
      "[ 0.79217255 -0.25433037]\n"
     ]
    }
   ],
   "source": [
    "w = calcWs(alphas, dataArr, labelArr)\n",
    "print(w)"
   ]
  },
  {
   "cell_type": "code",
   "execution_count": 21,
   "metadata": {},
   "outputs": [
    {
     "name": "stdout",
     "output_type": "stream",
     "text": [
      "[3.634009 1.730537] -1.0\n",
      "[4.658191 3.507396] -1.0\n",
      "[ 3.457096 -0.082216] -1.0\n",
      "[ 2.893743 -1.643468] -1.0\n",
      "[ 5.286862 -2.358286] 1.0\n",
      "[6.080573 0.418886] 1.0\n"
     ]
    }
   ],
   "source": [
    "# support vectors\n",
    "for i in range(len(alphas)):\n",
    "    if alphas[i] > 0:\n",
    "        print(dataArr[i], labelArr[i])"
   ]
  },
  {
   "cell_type": "code",
   "execution_count": 22,
   "metadata": {},
   "outputs": [
    {
     "data": {
      "image/png": "[encoded data removed]",
      "text/plain": [
       "<Figure size 432x288 with 1 Axes>"
      ]
     },
     "metadata": {},
     "output_type": "display_data"
    }
   ],
   "source": [
    "plt.figure()\n",
    "plt.scatter(dataArr[labelArr == -1][:, 0],\n",
    "            dataArr[labelArr == -1][:, 1], color=\"red\")\n",
    "plt.scatter(dataArr[labelArr == 1][:, 0],\n",
    "            dataArr[labelArr == 1][:, 1], color=\"blue\")\n",
    "plt.plot(np.array([-2, 12]),\n",
    "         ((-np.array([-2, 12]) * w[0] - b) / w[1]),\n",
    "         color=\"black\")\n",
    "for i in range(len(alphas)):\n",
    "    if alphas[i] > 0.0:\n",
    "        if labelArr[i] == -1:\n",
    "            plt.scatter(dataArr[i][0], dataArr[i][1],\n",
    "                        color=\"red\", edgecolors='black', s=100, linewidths=2)\n",
    "        else:\n",
    "            plt.scatter(dataArr[i][0], dataArr[i][1],\n",
    "                        color=\"blue\", edgecolors='black', s=100, linewidths=2)\n",
    "plt.xlim(-2, 12)\n",
    "plt.ylim(-8, 6)\n",
    "plt.show()"
   ]
  },
  {
   "cell_type": "code",
   "execution_count": 23,
   "metadata": {},
   "outputs": [
    {
     "name": "stdout",
     "output_type": "stream",
     "text": [
      "-1.4069805750864268\n",
      "-1.0\n"
     ]
    }
   ],
   "source": [
    "print(np.dot(dataArr[0], w) + b)\n",
    "print(labelArr[0])"
   ]
  },
  {
   "cell_type": "markdown",
   "metadata": {},
   "source": [
    "### Implement SVM (with kernel)"
   ]
  },
  {
   "cell_type": "code",
   "execution_count": 24,
   "metadata": {
    "collapsed": true
   },
   "outputs": [],
   "source": [
    "# Kernel transformation function\n",
    "def kernelTrans(X, A, kTup):\n",
    "    # kTup is a generic tuple that contains the information about the kernel\n",
    "    m, n = X.shape\n",
    "    K = np.zeros(m)\n",
    "    if kTup[0] == 'lin':\n",
    "        K = np.dot(X, A)\n",
    "    elif kTup[0] == 'rbf':\n",
    "        for j in range(m):\n",
    "            deltaRow = X[j] - A\n",
    "            K[j] = np.dot(deltaRow, deltaRow)\n",
    "        # Element-wise division\n",
    "        K = np.exp(K / (-1 * kTup[1] ** 2))\n",
    "    else:\n",
    "        raise NameError(\"Houston We Have a Problem -- \"\n",
    "                        \"That Kernel is not recognized\")\n",
    "    return K\n",
    "\n",
    "\n",
    "class optStruct:\n",
    "    def __init__(self, dataMatIn, classLabels, C, toler, kTup):\n",
    "        self.X = dataMatIn\n",
    "        self.labelMat = classLabels\n",
    "        self.C = C\n",
    "        self.tol = toler\n",
    "        self.m = dataMatIn.shape[0]\n",
    "        self.alphas = np.zeros(self.m)\n",
    "        self.b = 0\n",
    "        self.eCache = np.zeros((self.m, 2))\n",
    "        self.K = np.zeros((self.m, self.m))\n",
    "        for i in range(self.m):\n",
    "            self.K[:, i] = kernelTrans(self.X, self.X[i], kTup)"
   ]
  },
  {
   "cell_type": "code",
   "execution_count": 25,
   "metadata": {
    "collapsed": true
   },
   "outputs": [],
   "source": [
    "# Changes to innerL() and calcEk() needed to user kernels\n",
    "def calcEk(oS, k):\n",
    "    fXk = np.dot(np.multiply(oS.alphas, oS.labelMat), oS.K[:, k]) + oS.b\n",
    "    Ek = fXk - oS.labelMat[k]\n",
    "    return Ek\n",
    "\n",
    "\n",
    "# Full Platt SMO optimization routine\n",
    "def innerL(i, oS):\n",
    "    Ei = calcEk(oS, i)\n",
    "    if ((oS.labelMat[i] * Ei < -oS.tol and oS.alphas[i] < oS.C)\n",
    "            or (oS.labelMat[i] * Ei > oS.tol and oS.alphas[i] > 0)):\n",
    "        # Second-choice heuristic\n",
    "        j, Ej = selectJ(i, oS, Ei)\n",
    "        alphaIold = oS.alphas[i]\n",
    "        alphaJold = oS.alphas[j]\n",
    "        if oS.labelMat[i] != oS.labelMat[j]:\n",
    "            L = max(0, oS.alphas[j] - oS.alphas[i])\n",
    "            H = min(oS.C, oS.C + oS.alphas[j] - oS.alphas[i])\n",
    "        else:\n",
    "            L = max(0, oS.alphas[j] + oS.alphas[i] - oS.C)\n",
    "            H = min(oS.C, oS.alphas[j] + oS.alphas[i])\n",
    "        if L == H:\n",
    "            # print(\"L == H\")\n",
    "            return 0\n",
    "        eta = 2.0 * oS.K[i, j] - oS.K[i, i] - oS.K[j, j]\n",
    "        if eta >= 0:\n",
    "            # print(\"eta >= 0\")\n",
    "            return 0\n",
    "        oS.alphas[j] -= oS.labelMat[j] * (Ei - Ej) / eta\n",
    "        oS.alphas[j] = clipAlpha(oS.alphas[j], H, L)\n",
    "        # Updates Ecache\n",
    "        updateEk(oS, j)\n",
    "        if abs(oS.alphas[j] - alphaJold) < 0.00001:\n",
    "            # print(\"j not moving enough\")\n",
    "            return 0\n",
    "        oS.alphas[i] += (oS.labelMat[j] * oS.labelMat[i]\n",
    "                         * (alphaJold - oS.alphas[j]))\n",
    "        # Updates Ecache\n",
    "        updateEk(oS, i)\n",
    "        b1 = (oS.b - Ei\n",
    "              - oS.labelMat[i] * (oS.alphas[i] - alphaIold) * oS.K[i, i]\n",
    "              - oS.labelMat[j] * (oS.alphas[j] - alphaJold) * oS.K[i, j])\n",
    "        b2 = (oS.b - Ej\n",
    "              - oS.labelMat[i] * (oS.alphas[i] - alphaIold) * oS.K[i, j]\n",
    "              - oS.labelMat[j] * (oS.alphas[j] - alphaJold) * oS.K[j, j])\n",
    "        if 0 < oS.alphas[i] < oS.C:\n",
    "            oS.b = b1\n",
    "        elif 0 < oS.alphas[j] < oS.C:\n",
    "            oS.b = b2\n",
    "        else:\n",
    "            oS.b = (b1 + b2) / 2\n",
    "        return 1\n",
    "    else:\n",
    "        return 0"
   ]
  },
  {
   "cell_type": "code",
   "execution_count": 26,
   "metadata": {
    "collapsed": true
   },
   "outputs": [],
   "source": [
    "# Full Platt SMO outer loop\n",
    "def smoP(dataMatIn, classLabels, C, toler, maxIter, kTup):\n",
    "    oS = optStruct(dataMatIn, classLabels, C, toler, kTup)\n",
    "    n_iter = 0\n",
    "    entireSet = True\n",
    "    alphaPairsChanged = 0\n",
    "    while n_iter < maxIter and (alphaPairsChanged > 0 or entireSet):\n",
    "        alphaPairsChanged = 0\n",
    "        # Go over all values\n",
    "        if entireSet:\n",
    "            for i in range(oS.m):\n",
    "                alphaPairsChanged += innerL(i, oS)\n",
    "                # print(\"fullSet, iter: %d i:%d, pairs changed %d\"\n",
    "                #       % (n_iter, i, alphaPairsChanged))\n",
    "            n_iter += 1\n",
    "        # Go over non-bound values\n",
    "        else:\n",
    "            nonBoundIs = np.nonzero((oS.alphas > 0) * (oS.alphas < C))[0]\n",
    "            for i in nonBoundIs:\n",
    "                alphaPairsChanged += innerL(i, oS)\n",
    "                # print(\"non-bound, iter: %d i:%d, pairs changed %d\"\n",
    "                #       % (n_iter, i, alphaPairsChanged))\n",
    "            n_iter += 1\n",
    "        if entireSet:\n",
    "            entireSet = False\n",
    "        elif alphaPairsChanged == 0:\n",
    "            entireSet = True\n",
    "        print(\"iteration number: %d\" % n_iter)\n",
    "    return oS.b, oS.alphas"
   ]
  },
  {
   "cell_type": "markdown",
   "metadata": {},
   "source": [
    "### Experiment 1: Toy dataset"
   ]
  },
  {
   "cell_type": "code",
   "execution_count": 27,
   "metadata": {
    "collapsed": true
   },
   "outputs": [],
   "source": [
    "# Radial bias test function for classifying with a kernel\n",
    "def testRbf(k1=1.3):\n",
    "    dataArr, labelArr = loadDataSet('testSetRBF.txt')\n",
    "    b, alphas = smoP(dataArr, labelArr, 200, 0.0001, 10000, ('rbf', k1))\n",
    "    # Create matrix of support vectors\n",
    "    svInd = np.nonzero(alphas > 0)[0]\n",
    "    sVs = dataArr[svInd]\n",
    "    labelSV = labelArr[svInd]\n",
    "    print(\"there are %d Support Vectors\" % sVs.shape[0])\n",
    "\n",
    "    plt.figure()\n",
    "    plt.scatter(dataArr[labelArr == -1][:, 0],\n",
    "                dataArr[labelArr == -1][:, 1], color=\"red\")\n",
    "    plt.scatter(dataArr[labelArr == 1][:, 0],\n",
    "                dataArr[labelArr == 1][:, 1], color=\"blue\")\n",
    "    plt.scatter(sVs[labelSV == -1][:, 0], sVs[labelSV == -1][:, 1],\n",
    "                color=\"red\", edgecolors='black', s=100, linewidths=2)\n",
    "    plt.scatter(sVs[labelSV == 1][:, 0], sVs[labelSV == 1][:, 1],\n",
    "                color=\"blue\", edgecolors='black', s=100, linewidths=2)\n",
    "    plt.show()\n",
    "\n",
    "    m, n = dataArr.shape\n",
    "    errorCount = 0\n",
    "    for i in range(m):\n",
    "        kernelEval = kernelTrans(sVs, dataArr[i], ('rbf', k1))\n",
    "        predict = np.dot(kernelEval, np.multiply(labelSV, alphas[svInd])) + b\n",
    "        if np.sign(predict) != np.sign(labelArr[i]):\n",
    "            errorCount += 1\n",
    "    print(\"the training error rate is: %f\" % (errorCount / m))\n",
    "    dataArr, labelArr = loadDataSet('testSetRBF2.txt')\n",
    "    errorCount = 0\n",
    "    m, n = dataArr.shape\n",
    "    for i in range(m):\n",
    "        kernelEval = kernelTrans(sVs, dataArr[i], ('rbf', k1))\n",
    "        predict = np.dot(kernelEval, np.multiply(labelSV, alphas[svInd])) + b\n",
    "        if np.sign(predict) != np.sign(labelArr[i]):\n",
    "            errorCount += 1\n",
    "    print(\"the test error rate is: %f\" % (errorCount / m))"
   ]
  },
  {
   "cell_type": "code",
   "execution_count": 28,
   "metadata": {},
   "outputs": [
    {
     "name": "stdout",
     "output_type": "stream",
     "text": [
      "iteration number: 1\n",
      "iteration number: 2\n",
      "iteration number: 3\n",
      "iteration number: 4\n",
      "iteration number: 5\n",
      "iteration number: 6\n",
      "iteration number: 7\n",
      "there are 88 Support Vectors\n"
     ]
    },
    {
     "data": {
      "image/png": "[encoded data removed]",
      "text/plain": [
       "<Figure size 432x288 with 1 Axes>"
      ]
     },
     "metadata": {},
     "output_type": "display_data"
    },
    {
     "name": "stdout",
     "output_type": "stream",
     "text": [
      "the training error rate is: 0.000000\n",
      "the test error rate is: 0.080000\n"
     ]
    }
   ],
   "source": [
    "testRbf(k1=0.1)"
   ]
  },
  {
   "cell_type": "code",
   "execution_count": 29,
   "metadata": {},
   "outputs": [
    {
     "name": "stdout",
     "output_type": "stream",
     "text": [
      "iteration number: 1\n",
      "iteration number: 2\n",
      "iteration number: 3\n",
      "iteration number: 4\n",
      "iteration number: 5\n",
      "iteration number: 6\n",
      "there are 24 Support Vectors\n"
     ]
    },
    {
     "data": {
      "image/png": "[encoded data removed]",
      "text/plain": [
       "<Figure size 432x288 with 1 Axes>"
      ]
     },
     "metadata": {},
     "output_type": "display_data"
    },
    {
     "name": "stdout",
     "output_type": "stream",
     "text": [
      "the training error rate is: 0.000000\n",
      "the test error rate is: 0.070000\n"
     ]
    }
   ],
   "source": [
    "testRbf(k1=1.3)"
   ]
  },
  {
   "cell_type": "markdown",
   "metadata": {},
   "source": [
    "### Experiment 2: Handwriting dataset"
   ]
  },
  {
   "cell_type": "code",
   "execution_count": 30,
   "metadata": {},
   "outputs": [],
   "source": [
    "# Support vector machine handwriting recognition\n",
    "def img2vector(filename):\n",
    "    returnVect = np.zeros(1024)\n",
    "    fr = open(filename)\n",
    "    for i in range(32):\n",
    "        lineStr = fr.readline()\n",
    "        for j in range(32):\n",
    "            returnVect[32 * i + j] = int(lineStr[j])\n",
    "    return returnVect\n",
    "\n",
    "\n",
    "def loadImages(dirName):\n",
    "    hwLabels = []\n",
    "    trainingFileList = listdir(dirName)\n",
    "    m = len(trainingFileList)\n",
    "    trainingMat = np.zeros((m, 1024))\n",
    "    for i in range(m):\n",
    "        fileNameStr = trainingFileList[i]\n",
    "        fileStr = fileNameStr.split('.')[0]\n",
    "        classNumStr = int(fileStr.split('_')[0])\n",
    "        if classNumStr == 9:\n",
    "            hwLabels.append(-1)\n",
    "        else:\n",
    "            hwLabels.append(1)\n",
    "        trainingMat[i] = img2vector('%s/%s' % (dirName, fileNameStr))\n",
    "    return np.array(trainingMat), np.array(hwLabels)\n",
    "\n",
    "\n",
    "def testDigits(kTup=('rbf', 10)):\n",
    "    dataArr, labelArr = loadImages('trainingDigits')\n",
    "    b, alphas = smoP(dataArr, labelArr, 200, 0.0001, 10000, kTup)\n",
    "    svInd = np.nonzero(alphas > 0)[0]\n",
    "    sVs = dataArr[svInd]\n",
    "    labelSV = labelArr[svInd]\n",
    "    print(\"there are %d Support Vectors\" % sVs.shape[0])\n",
    "    m, n = dataArr.shape\n",
    "    errorCount = 0\n",
    "    for i in range(m):\n",
    "        kernelEval = kernelTrans(sVs, dataArr[i], kTup)\n",
    "        predict = np.dot(kernelEval, np.multiply(labelSV, alphas[svInd])) + b\n",
    "        if np.sign(predict) != np.sign(labelArr[i]):\n",
    "            errorCount += 1\n",
    "    print(\"the training error rate is: %f\" % (errorCount / m))\n",
    "    dataArr, labelArr = loadImages('testDigits')\n",
    "    errorCount = 0\n",
    "    m, n = dataArr.shape\n",
    "    for i in range(m):\n",
    "        kernelEval = kernelTrans(sVs, dataArr[i], kTup)\n",
    "        predict = np.dot(kernelEval, np.multiply(labelSV, alphas[svInd])) + b\n",
    "        if np.sign(predict) != np.sign(labelArr[i]):\n",
    "            errorCount += 1\n",
    "    print(\"the test error rate is: %f\" % (errorCount / m))"
   ]
  },
  {
   "cell_type": "code",
   "execution_count": 31,
   "metadata": {},
   "outputs": [
    {
     "name": "stdout",
     "output_type": "stream",
     "text": [
      "iteration number: 1\n",
      "iteration number: 2\n",
      "iteration number: 3\n",
      "iteration number: 4\n",
      "there are 51 Support Vectors\n",
      "the training error rate is: 0.000000\n",
      "the test error rate is: 0.016129\n"
     ]
    }
   ],
   "source": [
    "testDigits(('rbf', 20))"
   ]
  },
  {
   "cell_type": "code",
   "execution_count": 32,
   "metadata": {},
   "outputs": [
    {
     "name": "stdout",
     "output_type": "stream",
     "text": [
      "iteration number: 1\n",
      "iteration number: 2\n",
      "iteration number: 3\n",
      "iteration number: 4\n",
      "iteration number: 5\n",
      "iteration number: 6\n",
      "iteration number: 7\n",
      "there are 402 Support Vectors\n",
      "the training error rate is: 0.000000\n",
      "the test error rate is: 0.521505\n"
     ]
    }
   ],
   "source": [
    "testDigits(('rbf', 0.1))"
   ]
  },
  {
   "cell_type": "code",
   "execution_count": 33,
   "metadata": {},
   "outputs": [
    {
     "name": "stdout",
     "output_type": "stream",
     "text": [
      "iteration number: 1\n",
      "iteration number: 2\n",
      "iteration number: 3\n",
      "iteration number: 4\n",
      "iteration number: 5\n",
      "iteration number: 6\n",
      "iteration number: 7\n",
      "iteration number: 8\n",
      "there are 402 Support Vectors\n",
      "the training error rate is: 0.000000\n",
      "the test error rate is: 0.032258\n"
     ]
    }
   ],
   "source": [
    "testDigits(('rbf', 5))"
   ]
  },
  {
   "cell_type": "code",
   "execution_count": 34,
   "metadata": {},
   "outputs": [
    {
     "name": "stdout",
     "output_type": "stream",
     "text": [
      "iteration number: 1\n",
      "iteration number: 2\n",
      "iteration number: 3\n",
      "iteration number: 4\n",
      "there are 105 Support Vectors\n",
      "the training error rate is: 0.000000\n",
      "the test error rate is: 0.005376\n"
     ]
    }
   ],
   "source": [
    "testDigits(('rbf', 10))"
   ]
  },
  {
   "cell_type": "code",
   "execution_count": 35,
   "metadata": {},
   "outputs": [
    {
     "name": "stdout",
     "output_type": "stream",
     "text": [
      "iteration number: 1\n",
      "iteration number: 2\n",
      "iteration number: 3\n",
      "iteration number: 4\n",
      "iteration number: 5\n",
      "iteration number: 6\n",
      "there are 34 Support Vectors\n",
      "the training error rate is: 0.014925\n",
      "the test error rate is: 0.010753\n"
     ]
    }
   ],
   "source": [
    "testDigits(('rbf', 50))"
   ]
  },
  {
   "cell_type": "code",
   "execution_count": 36,
   "metadata": {},
   "outputs": [
    {
     "name": "stdout",
     "output_type": "stream",
     "text": [
      "iteration number: 1\n",
      "iteration number: 2\n",
      "iteration number: 3\n",
      "iteration number: 4\n",
      "there are 26 Support Vectors\n",
      "the training error rate is: 0.044776\n",
      "the test error rate is: 0.043011\n"
     ]
    }
   ],
   "source": [
    "testDigits(('rbf', 100))"
   ]
  },
  {
   "cell_type": "code",
   "execution_count": 37,
   "metadata": {},
   "outputs": [
    {
     "name": "stdout",
     "output_type": "stream",
     "text": [
      "iteration number: 1\n",
      "iteration number: 2\n",
      "iteration number: 3\n",
      "iteration number: 4\n",
      "there are 33 Support Vectors\n",
      "the training error rate is: 0.007463\n",
      "the test error rate is: 0.010753\n"
     ]
    }
   ],
   "source": [
    "testDigits(('lin',))"
   ]
  }
 ],
 "metadata": {
  "kernelspec": {
   "display_name": "Python 3",
   "language": "python",
   "name": "python3"
  },
  "language_info": {
   "codemirror_mode": {
    "name": "ipython",
    "version": 3
   },
   "file_extension": ".py",
   "mimetype": "text/x-python",
   "name": "python",
   "nbconvert_exporter": "python",
   "pygments_lexer": "ipython3",
   "version": "3.6.3"
  }
 },
 "nbformat": 4,
 "nbformat_minor": 2
}
