{
 "cells": [
  {
   "cell_type": "markdown",
   "metadata": {},
   "source": [
    "## Classifying with probability theory: naive Bayes"
   ]
  },
  {
   "cell_type": "markdown",
   "metadata": {},
   "source": [
    "- Pros: Works with a small amount of data, handles multiple classes\n",
    "- Cons: Sensitive to how the input data is prepared\n",
    "- Works with: Nominal values"
   ]
  },
  {
   "cell_type": "code",
   "execution_count": 1,
   "metadata": {
    "collapsed": true
   },
   "outputs": [],
   "source": [
    "import pickle\n",
    "import numpy as np"
   ]
  },
  {
   "cell_type": "markdown",
   "metadata": {},
   "source": [
    "### Implement Naive Bayse"
   ]
  },
  {
   "cell_type": "code",
   "execution_count": 2,
   "metadata": {
    "collapsed": true
   },
   "outputs": [],
   "source": [
    "# Naive Bayes classifier training function\n",
    "# Count the number of documents in each class\n",
    "# for every training document:\n",
    "#     for each class:\n",
    "#         if a token appears in the document\n",
    "#           -> increment the count for that token\n",
    "#         increment the count for tokens\n",
    "# for each class:\n",
    "#     for each token:\n",
    "#         divide the token count by the total token count\n",
    "#           to get conditional probabilities\n",
    "# return conditional probabilities for each class\n",
    "def trainNB0(trainMatrix, trainCategory):\n",
    "    numTrainDocs = len(trainMatrix)\n",
    "    numWords = len(trainMatrix[0])\n",
    "    pAbusive = sum(trainCategory) / numTrainDocs\n",
    "    # Initialize probabilities\n",
    "    # p0Num, p1Num = np.zeros(numWords), np.zeros(numWords)\n",
    "    p0Num, p1Num = np.ones(numWords), np.ones(numWords)\n",
    "    # p0Denom, p1Denom = 0.0, 0.0\n",
    "    p0Denom, p1Denom = 2.0, 2.0\n",
    "    for i in range(numTrainDocs):\n",
    "        if trainCategory[i] == 1:\n",
    "            # Vector addition\n",
    "            p1Num += trainMatrix[i]\n",
    "            p1Denom += sum(trainMatrix[i])\n",
    "        else:\n",
    "            p0Num += trainMatrix[i]\n",
    "            p0Denom += sum(trainMatrix[i])\n",
    "    # Element-wise division\n",
    "    # p1Vect = p1Num / p1Denom\n",
    "    # p0Vect = p0Num / p0Denom\n",
    "    p1Vect = np.log(p1Num / p1Denom)\n",
    "    p0Vect = np.log(p0Num / p0Denom)\n",
    "    return p0Vect, p1Vect, pAbusive"
   ]
  },
  {
   "cell_type": "code",
   "execution_count": 3,
   "metadata": {
    "collapsed": true
   },
   "outputs": [],
   "source": [
    "# Naive Bayes classify function\n",
    "def classifyNB(vec2Classify, p0Vec, p1Vec, pClass1):\n",
    "    # Element-wise multiplication\n",
    "    p1 = sum(vec2Classify * p1Vec) + np.log(pClass1)\n",
    "    p0 = sum(vec2Classify * p0Vec) + np.log(1.0 - pClass1)\n",
    "    if p1 > p0:\n",
    "        return 1\n",
    "    else:\n",
    "        return 0"
   ]
  },
  {
   "cell_type": "markdown",
   "metadata": {},
   "source": [
    "### Experiment 1: Toy dataset"
   ]
  },
  {
   "cell_type": "code",
   "execution_count": 4,
   "metadata": {
    "collapsed": true
   },
   "outputs": [],
   "source": [
    "# Word list to vector function\n",
    "def loadDataSet():\n",
    "    postingList = [['my', 'dog', 'has', 'flea', 'problems', 'help', 'please'],\n",
    "                   ['maybe', 'not', 'take', 'him', 'to', 'dog', 'park',\n",
    "                    'stupid'],\n",
    "                   ['my', 'dalmation', 'is', 'so', 'cute', 'I', 'love', 'him'],\n",
    "                   ['stop', 'posting', 'stupid', 'worthless', 'garbage'],\n",
    "                   ['mr', 'licks', 'ate', 'my', 'steak', 'how', 'to', 'stop',\n",
    "                    'him'],\n",
    "                   ['quit', 'buying', 'worthless', 'dog', 'food', 'stupid']]\n",
    "    classVec = [0, 1, 0, 1, 0, 1]  # 1 is abusive, 0 not\n",
    "    return postingList, classVec\n",
    "\n",
    "\n",
    "def createVocabList(dataSet):\n",
    "    # Create an empty set\n",
    "    vocabSet = set([])\n",
    "    for document in dataSet:\n",
    "        # Create the union of two sets\n",
    "        vocabSet = vocabSet | set(document)\n",
    "    return list(vocabSet)\n",
    "\n",
    "\n",
    "def setOfWords2Vec(vocabList, inputSet):\n",
    "    # Create a vector of all 0s\n",
    "    returnVec = [0] * len(vocabList)\n",
    "    for word in inputSet:\n",
    "        if word in vocabList:\n",
    "            returnVec[vocabList.index(word)] = 1\n",
    "        else:\n",
    "            print(\"the word: %s is not in my Vocabulary!\" % word)\n",
    "    return returnVec"
   ]
  },
  {
   "cell_type": "code",
   "execution_count": 5,
   "metadata": {
    "collapsed": true
   },
   "outputs": [],
   "source": [
    "listOPosts, listClasses = loadDataSet()\n",
    "myVocabList = createVocabList(listOPosts)"
   ]
  },
  {
   "cell_type": "code",
   "execution_count": 6,
   "metadata": {},
   "outputs": [
    {
     "name": "stdout",
     "output_type": "stream",
     "text": [
      "['my', 'licks', 'to', 'flea', 'dalmation', 'help', 'dog', 'maybe', 'has', 'how', 'problems', 'take', 'stop', 'food', 'love', 'cute', 'is', 'garbage', 'worthless', 'posting', 'mr', 'park', 'please', 'steak', 'buying', 'ate', 'him', 'not', 'I', 'stupid', 'quit', 'so']\n"
     ]
    }
   ],
   "source": [
    "print(myVocabList)"
   ]
  },
  {
   "cell_type": "code",
   "execution_count": 7,
   "metadata": {},
   "outputs": [
    {
     "name": "stdout",
     "output_type": "stream",
     "text": [
      "[1, 0, 0, 1, 0, 1, 1, 0, 1, 0, 1, 0, 0, 0, 0, 0, 0, 0, 0, 0, 0, 0, 1, 0, 0, 0, 0, 0, 0, 0, 0, 0]\n"
     ]
    }
   ],
   "source": [
    "print(setOfWords2Vec(myVocabList, listOPosts[0]))"
   ]
  },
  {
   "cell_type": "code",
   "execution_count": 8,
   "metadata": {},
   "outputs": [
    {
     "name": "stdout",
     "output_type": "stream",
     "text": [
      "[0, 0, 0, 0, 0, 0, 0, 0, 0, 0, 0, 0, 1, 0, 0, 0, 0, 1, 1, 1, 0, 0, 0, 0, 0, 0, 0, 0, 0, 1, 0, 0]\n"
     ]
    }
   ],
   "source": [
    "print(setOfWords2Vec(myVocabList, listOPosts[3]))"
   ]
  },
  {
   "cell_type": "code",
   "execution_count": 9,
   "metadata": {
    "collapsed": true
   },
   "outputs": [],
   "source": [
    "listOPosts, listClasses = loadDataSet()\n",
    "myVocabList = createVocabList(listOPosts)\n",
    "trainMat = []\n",
    "for postinDoc in listOPosts:\n",
    "    trainMat.append(setOfWords2Vec(myVocabList, postinDoc))\n",
    "p0V, p1V, pAb = trainNB0(np.array(trainMat), np.array(listClasses))"
   ]
  },
  {
   "cell_type": "code",
   "execution_count": 10,
   "metadata": {},
   "outputs": [
    {
     "name": "stdout",
     "output_type": "stream",
     "text": [
      "0.5\n"
     ]
    }
   ],
   "source": [
    "print(pAb)"
   ]
  },
  {
   "cell_type": "code",
   "execution_count": 11,
   "metadata": {},
   "outputs": [
    {
     "name": "stdout",
     "output_type": "stream",
     "text": [
      "[-1.87180218 -2.56494936 -2.56494936 -2.56494936 -2.56494936 -2.56494936\n",
      " -2.56494936 -3.25809654 -2.56494936 -2.56494936 -2.56494936 -3.25809654\n",
      " -2.56494936 -3.25809654 -2.56494936 -2.56494936 -2.56494936 -3.25809654\n",
      " -3.25809654 -3.25809654 -2.56494936 -3.25809654 -2.56494936 -2.56494936\n",
      " -3.25809654 -2.56494936 -2.15948425 -3.25809654 -2.56494936 -3.25809654\n",
      " -3.25809654 -2.56494936]\n"
     ]
    }
   ],
   "source": [
    "print(p0V)"
   ]
  },
  {
   "cell_type": "code",
   "execution_count": 12,
   "metadata": {},
   "outputs": [
    {
     "name": "stdout",
     "output_type": "stream",
     "text": [
      "[-3.04452244 -3.04452244 -2.35137526 -3.04452244 -3.04452244 -3.04452244\n",
      " -1.94591015 -2.35137526 -3.04452244 -3.04452244 -3.04452244 -2.35137526\n",
      " -2.35137526 -2.35137526 -3.04452244 -3.04452244 -3.04452244 -2.35137526\n",
      " -1.94591015 -2.35137526 -3.04452244 -2.35137526 -3.04452244 -3.04452244\n",
      " -2.35137526 -3.04452244 -2.35137526 -2.35137526 -3.04452244 -1.65822808\n",
      " -2.35137526 -3.04452244]\n"
     ]
    }
   ],
   "source": [
    "print(p1V)"
   ]
  },
  {
   "cell_type": "code",
   "execution_count": 13,
   "metadata": {
    "collapsed": true
   },
   "outputs": [],
   "source": [
    "def testingNB():\n",
    "    listOPosts, listClasses = loadDataSet()\n",
    "    myVocabList = createVocabList(listOPosts)\n",
    "    trainMat = []\n",
    "    for postinDoc in listOPosts:\n",
    "        trainMat.append(setOfWords2Vec(myVocabList, postinDoc))\n",
    "    p0V, p1V, pAb = trainNB0(np.array(trainMat), np.array(listClasses))\n",
    "    testEntry = ['love', 'my', 'dalmation']\n",
    "    thisDoc = np.array(setOfWords2Vec(myVocabList, testEntry))\n",
    "    print(testEntry, 'classified as: ', classifyNB(thisDoc, p0V, p1V, pAb))\n",
    "    testEntry = ['stupid', 'garbage']\n",
    "    thisDoc = np.array(setOfWords2Vec(myVocabList, testEntry))\n",
    "    print(testEntry, 'classified as: ', classifyNB(thisDoc, p0V, p1V, pAb))"
   ]
  },
  {
   "cell_type": "code",
   "execution_count": 14,
   "metadata": {},
   "outputs": [
    {
     "name": "stdout",
     "output_type": "stream",
     "text": [
      "['love', 'my', 'dalmation'] classified as:  0\n",
      "['stupid', 'garbage'] classified as:  1\n"
     ]
    }
   ],
   "source": [
    "testingNB()"
   ]
  },
  {
   "cell_type": "markdown",
   "metadata": {},
   "source": [
    "### Experiment 2: Email dataset"
   ]
  },
  {
   "cell_type": "code",
   "execution_count": 15,
   "metadata": {
    "collapsed": true
   },
   "outputs": [],
   "source": [
    "# Naive Bayes bag-of-words model\n",
    "def bagOfWords2VecMN(vocabList, inputSet):\n",
    "    returnVec = [0] * len(vocabList)\n",
    "    for word in inputSet:\n",
    "        if word in vocabList:\n",
    "            returnVec[vocabList.index(word)] += 1\n",
    "    return returnVec"
   ]
  },
  {
   "cell_type": "code",
   "execution_count": 16,
   "metadata": {
    "collapsed": true
   },
   "outputs": [],
   "source": [
    "# File parsing and full spam test functions\n",
    "def textParse(bigString):\n",
    "    import re\n",
    "    listOfTokens = re.split(r'\\W+', bigString)\n",
    "    return [tok.lower() for tok in listOfTokens if len(tok) > 2]\n",
    "\n",
    "\n",
    "def spamTest():\n",
    "    docList, classList = [], []\n",
    "    # Load and parse text files\n",
    "    for i in range(1, 26):\n",
    "        wordList = textParse(open('email/spam/%d.txt' % i,\n",
    "                                  errors='ignore').read())\n",
    "        docList.append(wordList)\n",
    "        classList.append(1)\n",
    "        wordList = textParse(open('email/ham/%d.txt' % i,\n",
    "                                  errors='ignore').read())\n",
    "        docList.append(wordList)\n",
    "        classList.append(0)\n",
    "    vocabList = createVocabList(docList)\n",
    "    # Randomly create the training set\n",
    "    trainingSet, testSet = list(range(50)), []\n",
    "    for i in range(10):\n",
    "        randIndex = int(np.random.uniform(0, len(trainingSet)))\n",
    "        testSet.append(trainingSet[randIndex])\n",
    "        del(trainingSet[randIndex])\n",
    "    trainMat, trainClasses = [], []\n",
    "    for docIndex in trainingSet:\n",
    "        trainMat.append(bagOfWords2VecMN(vocabList, docList[docIndex]))\n",
    "        trainClasses.append(classList[docIndex])\n",
    "    p0V, p1V, pSpam = trainNB0(np.array(trainMat), np.array(trainClasses))\n",
    "    # Classify the test set\n",
    "    errorCount = 0\n",
    "    for docIndex in testSet:\n",
    "        wordVector = bagOfWords2VecMN(vocabList, docList[docIndex])\n",
    "        if classifyNB(np.array(wordVector),\n",
    "                      p0V, p1V, pSpam) != classList[docIndex]:\n",
    "            errorCount += 1\n",
    "            print(\"classification error\", docList[docIndex])\n",
    "    print('the error rate is: ', errorCount / len(testSet))"
   ]
  },
  {
   "cell_type": "code",
   "execution_count": 17,
   "metadata": {},
   "outputs": [
    {
     "name": "stdout",
     "output_type": "stream",
     "text": [
      "classification error ['yay', 'you', 'both', 'doing', 'fine', 'working', 'mba', 'design', 'strategy', 'cca', 'top', 'art', 'school', 'new', 'program', 'focusing', 'more', 'right', 'brained', 'creative', 'and', 'strategic', 'approach', 'management', 'the', 'way', 'done', 'today']\n",
      "the error rate is:  0.1\n"
     ]
    }
   ],
   "source": [
    "spamTest()"
   ]
  },
  {
   "cell_type": "markdown",
   "metadata": {},
   "source": [
    "### Experiment 3: RSS dataset"
   ]
  },
  {
   "cell_type": "code",
   "execution_count": 18,
   "metadata": {
    "collapsed": true
   },
   "outputs": [],
   "source": [
    "# Original websites are no longer accessible"
   ]
  },
  {
   "cell_type": "code",
   "execution_count": 19,
   "metadata": {
    "collapsed": true
   },
   "outputs": [],
   "source": [
    "# import feedparser\n",
    "# ny = []\n",
    "# for s in [0, 25, 50, 75, 100, 125]:\n",
    "#     ny.extend(feedparser.parse( \\\n",
    "#         'https://newyork.craigslist.org/search/ccc?format=rss&s=' \\\n",
    "#         + str(s))['entries'])\n",
    "# ny_summary = []\n",
    "# for i in range(len(ny)):\n",
    "#     ny_summary.append(ny[i]['summary'])\n",
    "# ny_summary = list(set(ny_summary))\n",
    "# sf = []\n",
    "# for s in [0, 25, 50, 75, 100, 125]:\n",
    "#     sf.extend(feedparser.parse( \\\n",
    "#         'https://sfbay.craigslist.org/search/ccc?format=rss&s=' \\\n",
    "#         + str(s))['entries'])\n",
    "# sf_summary = []\n",
    "# for i in range(len(sf)):\n",
    "#     sf_summary.append(sf[i]['summary'])\n",
    "# sf_summary = list(set(sf_summary))"
   ]
  },
  {
   "cell_type": "code",
   "execution_count": 20,
   "metadata": {
    "collapsed": true
   },
   "outputs": [],
   "source": [
    "# output_file = open(\"ny_summary.pkl\", \"wb\")\n",
    "# pickle.dump(ny_summary, output_file)\n",
    "# output_file.close()\n",
    "# output_file = open(\"sf_summary.pkl\", \"wb\")\n",
    "# pickle.dump(sf_summary, output_file)\n",
    "# output_file.close()"
   ]
  },
  {
   "cell_type": "code",
   "execution_count": 21,
   "metadata": {
    "collapsed": true
   },
   "outputs": [],
   "source": [
    "# RSS feed classifier and frequent word removal functions\n",
    "def calcMostFreq(vocabList, fullText):\n",
    "    # Calculates frequency of occurrence\n",
    "    freqDict = {}\n",
    "    for token in vocabList:\n",
    "        freqDict[token] = fullText.count(token)\n",
    "    sortedFreq = sorted(freqDict.items(), key=lambda x: x[1], reverse=True)\n",
    "    return sortedFreq[:30]\n",
    "\n",
    "\n",
    "def spamTest(feed1, feed0):\n",
    "    docList, classList, fullText = [], [], []\n",
    "    minLen = min(len(feed1), len(feed0))\n",
    "    for i in range(minLen):\n",
    "        wordList = textParse(feed1[i])\n",
    "        docList.append(wordList)\n",
    "        fullText.extend(wordList)\n",
    "        classList.append(1)\n",
    "        wordList = textParse(feed0[i])\n",
    "        docList.append(wordList)\n",
    "        fullText.extend(wordList)\n",
    "        classList.append(0)\n",
    "    vocabList = createVocabList(docList)\n",
    "    # Removes most frequently occurring words\n",
    "    top30Words = calcMostFreq(vocabList, fullText)\n",
    "    for pairW in top30Words:\n",
    "        if pairW[0] in vocabList:\n",
    "            vocabList.remove(pairW[0])\n",
    "    trainingSet, testSet = list(range(2 * minLen)), []\n",
    "    for i in range(20):\n",
    "        randIndex = int(np.random.uniform(0, len(trainingSet)))\n",
    "        testSet.append(trainingSet[randIndex])\n",
    "        del(trainingSet[randIndex])\n",
    "    trainMat, trainClasses = [], []\n",
    "    for docIndex in trainingSet:\n",
    "        trainMat.append(bagOfWords2VecMN(vocabList, docList[docIndex]))\n",
    "        trainClasses.append(classList[docIndex])\n",
    "    p0V, p1V, pSpam = trainNB0(np.array(trainMat), np.array(trainClasses))\n",
    "    # Classify the test set\n",
    "    errorCount = 0\n",
    "    for docIndex in testSet:\n",
    "        wordVector = bagOfWords2VecMN(vocabList, docList[docIndex])\n",
    "        if classifyNB(np.array(wordVector),\n",
    "                      p0V, p1V, pSpam) != classList[docIndex]:\n",
    "            errorCount += 1\n",
    "            # print(\"classification error\", docList[docIndex])\n",
    "    print('the error rate is: ', errorCount / len(testSet))\n",
    "    return vocabList, p0V, p1V"
   ]
  },
  {
   "cell_type": "code",
   "execution_count": 22,
   "metadata": {},
   "outputs": [
    {
     "name": "stdout",
     "output_type": "stream",
     "text": [
      "the error rate is:  0.25\n"
     ]
    }
   ],
   "source": [
    "input_file = open(\"ny_summary.pkl\", \"rb\")\n",
    "ny = pickle.load(input_file)\n",
    "input_file.close()\n",
    "input_file = open(\"sf_summary.pkl\", \"rb\")\n",
    "sf = pickle.load(input_file)\n",
    "input_file.close()\n",
    "vocabList, p0V, p1V = spamTest(ny, sf)"
   ]
  },
  {
   "cell_type": "code",
   "execution_count": 23,
   "metadata": {
    "collapsed": true
   },
   "outputs": [],
   "source": [
    "# Most descriptive word display function\n",
    "def getTopWords(ny, sf):\n",
    "    vocabList, p0V, p1V = spamTest(ny, sf)\n",
    "    topNY, topSF = [], []\n",
    "    for i in range(len(p0V)):\n",
    "        if p0V[i] > -6.0:\n",
    "            topSF.append((vocabList[i], p0V[i]))\n",
    "        if p1V[i] > -6.0:\n",
    "            topNY.append((vocabList[i], p1V[i]))\n",
    "    sortedSF = sorted(topSF, key=lambda x: x[1], reverse=True)\n",
    "    print(\"SF**SF**SF**SF**SF**SF**SF**SF**SF**SF**SF**SF**SF**SF**SF**SF**\")\n",
    "    print(list(map(lambda x: x[0], sortedSF)))\n",
    "    sortedNY = sorted(topNY, key=lambda x: x[1], reverse=True)\n",
    "    print(\"NY**NY**NY**NY**NY**NY**NY**NY**NY**NY**NY**NY**NY**NY**NY**NY**\")\n",
    "    print(list(map(lambda x: x[0], sortedNY)))"
   ]
  },
  {
   "cell_type": "code",
   "execution_count": 24,
   "metadata": {},
   "outputs": [
    {
     "name": "stdout",
     "output_type": "stream",
     "text": [
      "the error rate is:  0.3\n",
      "SF**SF**SF**SF**SF**SF**SF**SF**SF**SF**SF**SF**SF**SF**SF**SF**\n",
      "['was', 'play', 'want', 'his', 'san', 'out', 'hello', 'available', 'text', 'one', 'name', 'years', 'were', 'puppy', 'experience', 'dogs', 'free', 'know', 'band', 'year', 'date', 'com', 'also', 'two', 'love', 'shots', 'trained', 'good', 'there', 'help', 'children', 'other', 'studio', 'she', 'next', 'any', 'has', 'about', 'right', 'playful', 'don', 'weeks', 'only', 'let', 'loves', 'experienced', 'see', 'jazz', 'had', 'great', 'breed', 'come', 'cat', 'potty', 'forever', 'got', 'puppies', 'guitar', 'now', 'professional', 'just', 'spayed', 'fee', 'pet']\n",
      "NY**NY**NY**NY**NY**NY**NY**NY**NY**NY**NY**NY**NY**NY**NY**NY**\n",
      "['carpet', 'available', 'studio', 'more', 'new', 'out', 'cargo', 'other', 'one', 'com', 'time', 'work', 'she', 'open', 'well', 'needed', 'here', 'would', 'van', 'low', 'www', 'fun', 'player', 'day', 'family', 'needs', 'year', 'singer', 'years', 'has', 'curb', 'cat', 'rates', 'first', 'seeking', 'ready', 'like', 'love', 'store', 'want', 'make', 'long', 'hey', 'let', 'kittens', 'see', 'read', 'https', 'driver', 'beautiful', 'great', 'recording', 'live', 'dog', 'also', 'deliveries', 'free', 'hire', 'only', 'because', 'than', 'when', 'kitten', 'night', 'food']\n"
     ]
    }
   ],
   "source": [
    "getTopWords(ny, sf)"
   ]
  }
 ],
 "metadata": {
  "kernelspec": {
   "display_name": "Python 3",
   "language": "python",
   "name": "python3"
  },
  "language_info": {
   "codemirror_mode": {
    "name": "ipython",
    "version": 3
   },
   "file_extension": ".py",
   "mimetype": "text/x-python",
   "name": "python",
   "nbconvert_exporter": "python",
   "pygments_lexer": "ipython3",
   "version": "3.6.3"
  }
 },
 "nbformat": 4,
 "nbformat_minor": 2
}
