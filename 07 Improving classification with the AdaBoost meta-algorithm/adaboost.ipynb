{
 "cells": [
  {
   "cell_type": "markdown",
   "metadata": {},
   "source": [
    "## Improving classification with the AdaBoost meta-algorithm"
   ]
  },
  {
   "cell_type": "markdown",
   "metadata": {},
   "source": [
    "- Pros: Low generalization error, easy to code, works with most classifiers, no parameters to adjust\n",
    "- Cons: Sensitive to outliers\n",
    "- Works with: Numeric values, nominal values"
   ]
  },
  {
   "cell_type": "code",
   "execution_count": 1,
   "metadata": {
    "collapsed": true
   },
   "outputs": [],
   "source": [
    "import numpy as np\n",
    "import matplotlib.pyplot as plt\n",
    "%matplotlib inline"
   ]
  },
  {
   "cell_type": "markdown",
   "metadata": {},
   "source": [
    "### Implement Adaboost"
   ]
  },
  {
   "cell_type": "code",
   "execution_count": 2,
   "metadata": {
    "collapsed": true
   },
   "outputs": [],
   "source": [
    "# Decision stump–generating functions\n",
    "def stumpClassify(dataMatrix, dimen, threshVal, threshIneq):\n",
    "    retArray = np.ones(dataMatrix.shape[0])\n",
    "    if threshIneq == 'lt':\n",
    "        retArray[dataMatrix[:, dimen] <= threshVal] = -1.0\n",
    "    else:\n",
    "        retArray[dataMatrix[:, dimen] > threshVal] = -1.0\n",
    "    return retArray\n",
    "\n",
    "\n",
    "# Set the minError to +Inf\n",
    "# For every feature in the dataset:\n",
    "#     For every step:\n",
    "#         For each inequality:\n",
    "#             Build a decision stump and test it with the weighted dataset\n",
    "#             If the error is less than minError: set this stump as the best stump\n",
    "# Return the best stump\n",
    "def buildStump(dataMatrix, classLabels, D):\n",
    "    numSteps = 10\n",
    "    bestStump = {}\n",
    "    bestClasEst = np.zeros(dataMatrix.shape[0])\n",
    "    minError = np.inf\n",
    "    for i in range(dataMatrix.shape[1]):\n",
    "        rangeMin = dataMatrix[:, i].min()\n",
    "        rangeMax = dataMatrix[:, i].max()\n",
    "        stepSize = (rangeMax - rangeMin) / numSteps\n",
    "        for j in range(-1, numSteps + 1):\n",
    "            for inequal in ['lt', 'gt']:\n",
    "                threshVal = rangeMin + j * stepSize\n",
    "                predictedVals = stumpClassify(dataMatrix,\n",
    "                                              i, threshVal, inequal)\n",
    "                errArr = np.ones(dataMatrix.shape[0])\n",
    "                errArr[predictedVals == classLabels] = 0\n",
    "                # Calculate weighted error\n",
    "                weightedError = np.dot(D, errArr)\n",
    "                # print(\"split: dim %d, thresh %.2f, thresh ineqal: %s, \"\n",
    "                #       \"the weighted error is %.3f\"\n",
    "                #       % (i, threshVal, inequal, weightedError))\n",
    "                if weightedError < minError:\n",
    "                    minError = weightedError\n",
    "                    bestClasEst = predictedVals.copy()\n",
    "                    bestStump['dim'] = i\n",
    "                    bestStump['thresh'] = threshVal\n",
    "                    bestStump['ineq'] = inequal\n",
    "    return bestStump, minError, bestClasEst"
   ]
  },
  {
   "cell_type": "code",
   "execution_count": 3,
   "metadata": {
    "collapsed": true
   },
   "outputs": [],
   "source": [
    "# AdaBoost training with decision stumps\n",
    "# For each iteration:\n",
    "# Find the best stump using buildStump()\n",
    "# Add the best stump to the stump array\n",
    "# Calculate alpha\n",
    "# Calculate the new weight vector – D\n",
    "# Update the aggregate class estimate\n",
    "# If the error rate ==0.0 : break out of the for loop\n",
    "def adaBoostTrainDS(dataArr, classLabels, numIt=40):\n",
    "    weakClassArr = []\n",
    "    m = dataArr.shape[0]\n",
    "    D = np.ones(m) / m\n",
    "    aggClassEst = np.zeros(m)\n",
    "    for i in range(numIt):\n",
    "        bestStump, error, classEst = buildStump(dataArr, classLabels, D)\n",
    "        # print(\"D:\", D)\n",
    "        alpha = 0.5 * np.log((1.0 - error) / max(error, 1e-16))\n",
    "        bestStump['alpha'] = alpha\n",
    "        weakClassArr.append(bestStump)\n",
    "        # print(\"classEst: \", classEst)\n",
    "        # Calculate D for next iteration\n",
    "        expon = np.multiply(-1 * alpha * classLabels, classEst)\n",
    "        D = np.multiply(D, np.exp(expon))\n",
    "        D = D / D.sum()\n",
    "        # Aggregate error calculation\n",
    "        aggClassEst += alpha * classEst\n",
    "        # print(\"aggClassEst: \", aggClassEst)\n",
    "        aggErrors = np.sign(aggClassEst) != classLabels\n",
    "        errorRate = aggErrors.sum() / m\n",
    "        # print(\"total error: \", errorRate)\n",
    "        if errorRate == 0.0:\n",
    "            break\n",
    "    return weakClassArr, aggClassEst"
   ]
  },
  {
   "cell_type": "code",
   "execution_count": 4,
   "metadata": {
    "collapsed": true
   },
   "outputs": [],
   "source": [
    "# AdaBoost classification function\n",
    "def adaClassify(dataMatrix, classifierArr):\n",
    "    aggClassEst = np.zeros(dataMatrix.shape[0])\n",
    "    for i in range(len(classifierArr)):\n",
    "        classEst = stumpClassify(dataMatrix, classifierArr[i]['dim'],\n",
    "                                 classifierArr[i]['thresh'],\n",
    "                                 classifierArr[i]['ineq'])\n",
    "        aggClassEst += classifierArr[i]['alpha'] * classEst\n",
    "        # print(aggClassEst)\n",
    "    return np.sign(aggClassEst)"
   ]
  },
  {
   "cell_type": "code",
   "execution_count": 5,
   "metadata": {
    "collapsed": true
   },
   "outputs": [],
   "source": [
    "# ROC plotting and AUC calculating function\n",
    "def plotROC(predStrengths, classLabels):\n",
    "    cur = (1.0, 1.0)\n",
    "    ySum = 0.0\n",
    "    numPosClas = sum(classLabels == 1.0)\n",
    "    yStep = 1 / numPosClas\n",
    "    xStep = 1 / (len(classLabels) - numPosClas)\n",
    "    # Get sorted index\n",
    "    sortedIndicies = predStrengths.argsort()\n",
    "    plt.figure()\n",
    "    for index in sortedIndicies:\n",
    "        if classLabels[index] == 1.0:\n",
    "            delX, delY = 0, yStep\n",
    "        else:\n",
    "            delX, delY = xStep, 0\n",
    "            ySum += cur[1]\n",
    "        plt.plot([cur[0], cur[0] - delX], [cur[1], cur[1] - delY], c='b')\n",
    "        cur = (cur[0] - delX, cur[1] - delY)\n",
    "    plt.plot([0, 1], [0, 1], 'b--')\n",
    "    plt.xlabel('False positive rate')\n",
    "    plt.ylabel('True positive rate')\n",
    "    plt.title('ROC curve for AdaBoost horse colic detection system')\n",
    "    plt.axis([0, 1, 0, 1])\n",
    "    plt.show()\n",
    "    print(\"the Area Under the Curve is: \", ySum * xStep)"
   ]
  },
  {
   "cell_type": "markdown",
   "metadata": {},
   "source": [
    "### Experiment 1: Toy dataset"
   ]
  },
  {
   "cell_type": "code",
   "execution_count": 6,
   "metadata": {
    "collapsed": true
   },
   "outputs": [],
   "source": [
    "def loadSimpData():\n",
    "    datMat = np.array([[1., 2.1],\n",
    "                       [2., 1.1],\n",
    "                       [1.3, 1.],\n",
    "                       [1., 1.],\n",
    "                       [2., 1.]])\n",
    "    classLabels = np.array([1.0, 1.0, -1.0, -1.0, 1.0])\n",
    "    return datMat, classLabels"
   ]
  },
  {
   "cell_type": "code",
   "execution_count": 7,
   "metadata": {
    "collapsed": true
   },
   "outputs": [],
   "source": [
    "datArr, labelArr = loadSimpData()"
   ]
  },
  {
   "cell_type": "code",
   "execution_count": 8,
   "metadata": {},
   "outputs": [
    {
     "name": "stdout",
     "output_type": "stream",
     "text": [
      "[{'dim': 0, 'thresh': 1.3, 'ineq': 'lt', 'alpha': 0.6931471805599453}, {'dim': 1, 'thresh': 1.0, 'ineq': 'lt', 'alpha': 0.9729550745276565}, {'dim': 0, 'thresh': 0.9, 'ineq': 'lt', 'alpha': 0.8958797346140273}]\n"
     ]
    }
   ],
   "source": [
    "classifierArr, _ = adaBoostTrainDS(datArr, labelArr, 30)\n",
    "print(classifierArr)"
   ]
  },
  {
   "cell_type": "code",
   "execution_count": 9,
   "metadata": {},
   "outputs": [
    {
     "data": {
      "text/plain": [
       "array([-1.])"
      ]
     },
     "execution_count": 9,
     "metadata": {},
     "output_type": "execute_result"
    }
   ],
   "source": [
    "adaClassify(np.array([[0, 0]]), classifierArr)"
   ]
  },
  {
   "cell_type": "code",
   "execution_count": 10,
   "metadata": {},
   "outputs": [
    {
     "data": {
      "text/plain": [
       "array([ 1., -1.])"
      ]
     },
     "execution_count": 10,
     "metadata": {},
     "output_type": "execute_result"
    }
   ],
   "source": [
    "adaClassify(np.array([[5, 5], [0, 0]]), classifierArr)"
   ]
  },
  {
   "cell_type": "markdown",
   "metadata": {},
   "source": [
    "### Experiment 2: Horse colic dataset"
   ]
  },
  {
   "cell_type": "code",
   "execution_count": 11,
   "metadata": {
    "collapsed": true
   },
   "outputs": [],
   "source": [
    "# Adaptive load data function\n",
    "def loadDataSet(fileName):\n",
    "    numFeat = len(open(fileName).readline().split('\\t')) - 1\n",
    "    dataMat, labelMat = [], []\n",
    "    fr = open(fileName)\n",
    "    for line in fr.readlines():\n",
    "        lineArr = []\n",
    "        curLine = line.strip().split('\\t')\n",
    "        for i in range(numFeat):\n",
    "            lineArr.append(float(curLine[i]))\n",
    "        dataMat.append(lineArr)\n",
    "        labelMat.append(float(curLine[-1]))\n",
    "    return np.array(dataMat), np.array(labelMat)"
   ]
  },
  {
   "cell_type": "code",
   "execution_count": 12,
   "metadata": {
    "collapsed": true
   },
   "outputs": [],
   "source": [
    "datArr, labelArr = loadDataSet('horseColicTraining2.txt')\n",
    "classifierArray, _ = adaBoostTrainDS(datArr, labelArr, 10)\n",
    "testArr, testLabelArr = loadDataSet('horseColicTest2.txt')\n",
    "prediction10 = adaClassify(testArr, classifierArray)"
   ]
  },
  {
   "cell_type": "code",
   "execution_count": 13,
   "metadata": {},
   "outputs": [
    {
     "data": {
      "text/plain": [
       "0.23880597014925373"
      ]
     },
     "execution_count": 13,
     "metadata": {},
     "output_type": "execute_result"
    }
   ],
   "source": [
    "(prediction10 != testLabelArr).sum() / len(testLabelArr)"
   ]
  },
  {
   "cell_type": "code",
   "execution_count": 14,
   "metadata": {},
   "outputs": [
    {
     "data": {
      "image/png": "[encoded data removed]",
      "text/plain": [
       "<Figure size 432x288 with 1 Axes>"
      ]
     },
     "metadata": {},
     "output_type": "display_data"
    },
    {
     "name": "stdout",
     "output_type": "stream",
     "text": [
      "the Area Under the Curve is:  0.8582969635063604\n"
     ]
    }
   ],
   "source": [
    "classifierArray, aggClassEst = adaBoostTrainDS(datArr, labelArr, 10)\n",
    "plotROC(aggClassEst.T, labelArr)"
   ]
  }
 ],
 "metadata": {
  "kernelspec": {
   "display_name": "Python 3",
   "language": "python",
   "name": "python3"
  },
  "language_info": {
   "codemirror_mode": {
    "name": "ipython",
    "version": 3
   },
   "file_extension": ".py",
   "mimetype": "text/x-python",
   "name": "python",
   "nbconvert_exporter": "python",
   "pygments_lexer": "ipython3",
   "version": "3.6.3"
  }
 },
 "nbformat": 4,
 "nbformat_minor": 2
}
